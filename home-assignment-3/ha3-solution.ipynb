{
 "cells": [
  {
   "cell_type": "markdown",
   "id": "cee61acc",
   "metadata": {},
   "source": [
    "We will use simple economic model of Churn:\n",
    "- You have historical data about customers who churn and not churn.\n",
    "- You have a predictive model which for every customer predict whether he will churn or not churn next month.\n",
    "- You know if you give a discount d% to a churn customer, he will not churn.\n",
    "- Telecom company do not have any accompanying expenses on any discount strategy. \n",
    "- Baseline (\"0 profit\") solution corresponds to the case where we do not apply any discount strategy and loose all churned clients"
   ]
  },
  {
   "cell_type": "code",
   "execution_count": 1,
   "id": "38f1cb24",
   "metadata": {},
   "outputs": [],
   "source": [
    "import pandas as pd"
   ]
  },
  {
   "cell_type": "code",
   "execution_count": 3,
   "id": "0210c810",
   "metadata": {},
   "outputs": [],
   "source": [
    "df_train = pd.read_csv('./train.csv')\n",
    "df_test = pd.read_csv('./test.csv')"
   ]
  },
  {
   "cell_type": "code",
   "execution_count": 3,
   "id": "1e395c08",
   "metadata": {},
   "outputs": [
    {
     "data": {
      "text/html": [
       "<div>\n",
       "<style scoped>\n",
       "    .dataframe tbody tr th:only-of-type {\n",
       "        vertical-align: middle;\n",
       "    }\n",
       "\n",
       "    .dataframe tbody tr th {\n",
       "        vertical-align: top;\n",
       "    }\n",
       "\n",
       "    .dataframe thead th {\n",
       "        text-align: right;\n",
       "    }\n",
       "</style>\n",
       "<table border=\"1\" class=\"dataframe\">\n",
       "  <thead>\n",
       "    <tr style=\"text-align: right;\">\n",
       "      <th></th>\n",
       "      <th>customerID</th>\n",
       "      <th>gender</th>\n",
       "      <th>SeniorCitizen</th>\n",
       "      <th>Partner</th>\n",
       "      <th>Dependents</th>\n",
       "      <th>tenure</th>\n",
       "      <th>PhoneService</th>\n",
       "      <th>MultipleLines</th>\n",
       "      <th>InternetService</th>\n",
       "      <th>OnlineSecurity</th>\n",
       "      <th>...</th>\n",
       "      <th>DeviceProtection</th>\n",
       "      <th>TechSupport</th>\n",
       "      <th>StreamingTV</th>\n",
       "      <th>StreamingMovies</th>\n",
       "      <th>Contract</th>\n",
       "      <th>PaperlessBilling</th>\n",
       "      <th>PaymentMethod</th>\n",
       "      <th>MonthlyCharges</th>\n",
       "      <th>TotalCharges</th>\n",
       "      <th>Churn</th>\n",
       "    </tr>\n",
       "  </thead>\n",
       "  <tbody>\n",
       "    <tr>\n",
       "      <th>0</th>\n",
       "      <td>3472-OAOOR</td>\n",
       "      <td>Male</td>\n",
       "      <td>0</td>\n",
       "      <td>Yes</td>\n",
       "      <td>Yes</td>\n",
       "      <td>19</td>\n",
       "      <td>No</td>\n",
       "      <td>No phone service</td>\n",
       "      <td>DSL</td>\n",
       "      <td>Yes</td>\n",
       "      <td>...</td>\n",
       "      <td>No</td>\n",
       "      <td>No</td>\n",
       "      <td>No</td>\n",
       "      <td>No</td>\n",
       "      <td>Month-to-month</td>\n",
       "      <td>Yes</td>\n",
       "      <td>Mailed check</td>\n",
       "      <td>34.95</td>\n",
       "      <td>610.2</td>\n",
       "      <td>No</td>\n",
       "    </tr>\n",
       "    <tr>\n",
       "      <th>1</th>\n",
       "      <td>5393-RXQSZ</td>\n",
       "      <td>Male</td>\n",
       "      <td>0</td>\n",
       "      <td>No</td>\n",
       "      <td>No</td>\n",
       "      <td>1</td>\n",
       "      <td>Yes</td>\n",
       "      <td>No</td>\n",
       "      <td>Fiber optic</td>\n",
       "      <td>No</td>\n",
       "      <td>...</td>\n",
       "      <td>No</td>\n",
       "      <td>No</td>\n",
       "      <td>No</td>\n",
       "      <td>Yes</td>\n",
       "      <td>Month-to-month</td>\n",
       "      <td>No</td>\n",
       "      <td>Electronic check</td>\n",
       "      <td>79.60</td>\n",
       "      <td>79.6</td>\n",
       "      <td>Yes</td>\n",
       "    </tr>\n",
       "    <tr>\n",
       "      <th>2</th>\n",
       "      <td>0968-GSIKN</td>\n",
       "      <td>Female</td>\n",
       "      <td>0</td>\n",
       "      <td>No</td>\n",
       "      <td>No</td>\n",
       "      <td>1</td>\n",
       "      <td>Yes</td>\n",
       "      <td>No</td>\n",
       "      <td>Fiber optic</td>\n",
       "      <td>No</td>\n",
       "      <td>...</td>\n",
       "      <td>No</td>\n",
       "      <td>No</td>\n",
       "      <td>No</td>\n",
       "      <td>No</td>\n",
       "      <td>Month-to-month</td>\n",
       "      <td>Yes</td>\n",
       "      <td>Mailed check</td>\n",
       "      <td>70.80</td>\n",
       "      <td>70.8</td>\n",
       "      <td>Yes</td>\n",
       "    </tr>\n",
       "    <tr>\n",
       "      <th>3</th>\n",
       "      <td>1057-FOGLZ</td>\n",
       "      <td>Female</td>\n",
       "      <td>0</td>\n",
       "      <td>No</td>\n",
       "      <td>No</td>\n",
       "      <td>18</td>\n",
       "      <td>Yes</td>\n",
       "      <td>No</td>\n",
       "      <td>No</td>\n",
       "      <td>No internet service</td>\n",
       "      <td>...</td>\n",
       "      <td>No internet service</td>\n",
       "      <td>No internet service</td>\n",
       "      <td>No internet service</td>\n",
       "      <td>No internet service</td>\n",
       "      <td>Month-to-month</td>\n",
       "      <td>No</td>\n",
       "      <td>Mailed check</td>\n",
       "      <td>19.65</td>\n",
       "      <td>391.7</td>\n",
       "      <td>No</td>\n",
       "    </tr>\n",
       "    <tr>\n",
       "      <th>4</th>\n",
       "      <td>3244-CQPHU</td>\n",
       "      <td>Female</td>\n",
       "      <td>1</td>\n",
       "      <td>No</td>\n",
       "      <td>No</td>\n",
       "      <td>72</td>\n",
       "      <td>Yes</td>\n",
       "      <td>Yes</td>\n",
       "      <td>Fiber optic</td>\n",
       "      <td>Yes</td>\n",
       "      <td>...</td>\n",
       "      <td>No</td>\n",
       "      <td>Yes</td>\n",
       "      <td>Yes</td>\n",
       "      <td>Yes</td>\n",
       "      <td>Two year</td>\n",
       "      <td>Yes</td>\n",
       "      <td>Bank transfer (automatic)</td>\n",
       "      <td>110.10</td>\n",
       "      <td>7746.7</td>\n",
       "      <td>No</td>\n",
       "    </tr>\n",
       "  </tbody>\n",
       "</table>\n",
       "<p>5 rows × 21 columns</p>\n",
       "</div>"
      ],
      "text/plain": [
       "   customerID  gender  SeniorCitizen Partner Dependents  tenure PhoneService  \\\n",
       "0  3472-OAOOR    Male              0     Yes        Yes      19           No   \n",
       "1  5393-RXQSZ    Male              0      No         No       1          Yes   \n",
       "2  0968-GSIKN  Female              0      No         No       1          Yes   \n",
       "3  1057-FOGLZ  Female              0      No         No      18          Yes   \n",
       "4  3244-CQPHU  Female              1      No         No      72          Yes   \n",
       "\n",
       "      MultipleLines InternetService       OnlineSecurity  ...  \\\n",
       "0  No phone service             DSL                  Yes  ...   \n",
       "1                No     Fiber optic                   No  ...   \n",
       "2                No     Fiber optic                   No  ...   \n",
       "3                No              No  No internet service  ...   \n",
       "4               Yes     Fiber optic                  Yes  ...   \n",
       "\n",
       "      DeviceProtection          TechSupport          StreamingTV  \\\n",
       "0                   No                   No                   No   \n",
       "1                   No                   No                   No   \n",
       "2                   No                   No                   No   \n",
       "3  No internet service  No internet service  No internet service   \n",
       "4                   No                  Yes                  Yes   \n",
       "\n",
       "       StreamingMovies        Contract PaperlessBilling  \\\n",
       "0                   No  Month-to-month              Yes   \n",
       "1                  Yes  Month-to-month               No   \n",
       "2                   No  Month-to-month              Yes   \n",
       "3  No internet service  Month-to-month               No   \n",
       "4                  Yes        Two year              Yes   \n",
       "\n",
       "               PaymentMethod MonthlyCharges  TotalCharges Churn  \n",
       "0               Mailed check          34.95         610.2    No  \n",
       "1           Electronic check          79.60          79.6   Yes  \n",
       "2               Mailed check          70.80          70.8   Yes  \n",
       "3               Mailed check          19.65         391.7    No  \n",
       "4  Bank transfer (automatic)         110.10        7746.7    No  \n",
       "\n",
       "[5 rows x 21 columns]"
      ]
     },
     "execution_count": 3,
     "metadata": {},
     "output_type": "execute_result"
    }
   ],
   "source": [
    "df_train.head()"
   ]
  },
  {
   "cell_type": "markdown",
   "id": "aa6f88ab",
   "metadata": {},
   "source": [
    "### 1. What is the percentage of MonthlyCharges payed by customers who will Churn? Single integer number 0..100. "
   ]
  },
  {
   "cell_type": "code",
   "execution_count": 4,
   "id": "e6949ba8",
   "metadata": {},
   "outputs": [
    {
     "data": {
      "text/plain": [
       "30"
      ]
     },
     "execution_count": 4,
     "metadata": {},
     "output_type": "execute_result"
    }
   ],
   "source": [
    "round(100 * df_train.query('Churn==\"Yes\"').MonthlyCharges.sum() / df_train.MonthlyCharges.sum())"
   ]
  },
  {
   "cell_type": "markdown",
   "id": "5b15ea2d",
   "metadata": {},
   "source": [
    "### 2. Compute the profit of 20% discount (MonthlyCharges based) on a test set in scenario where you have \"perfect\", 100% accurate classification model. How much money company saves, assuming all customers accepts it and do not churn? Single float number, with 2 significant digits, e.g. 10.16 ."
   ]
  },
  {
   "cell_type": "code",
   "execution_count": 4,
   "id": "5e4cec7c",
   "metadata": {},
   "outputs": [
    {
     "name": "stdout",
     "output_type": "stream",
     "text": [
      "45331.72000000001\n"
     ]
    }
   ],
   "source": [
    "# Do nothing strategy\n",
    "\n",
    "baseline = df_test.query('Churn==\"No\"').MonthlyCharges.sum()\n",
    "\n",
    "# 20% to all Churn==Yes\n",
    "\n",
    "churn_profit = df_test.query('Churn==\"Yes\"').MonthlyCharges.sum() * (1-0.2)\n",
    "print(churn_profit)\n",
    "# Total = baseline + churn_profit"
   ]
  },
  {
   "cell_type": "markdown",
   "id": "1201349f",
   "metadata": {},
   "source": [
    "### 3. Build any binary classification model, which output probabilities (e.g. Logistic Regression, Gradient Boosting, etc.) using training set. Make predictions on a test set. Upload a csv file with your predictions (it should contain 2 columns, customerID and PredictedYes). For all remaining computations you must use these predictions."
   ]
  },
  {
   "cell_type": "code",
   "execution_count": 6,
   "id": "f0a371b4",
   "metadata": {},
   "outputs": [],
   "source": [
    "cat_features = list(df_train.dtypes.sort_values().iloc[4:-1].index)"
   ]
  },
  {
   "cell_type": "code",
   "execution_count": 7,
   "id": "a07bdc2e",
   "metadata": {},
   "outputs": [],
   "source": [
    "from sklearn.model_selection import train_test_split\n",
    "\n",
    "X = df_train.drop(['customerID', 'Churn'], axis=1)\n",
    "y = df_train['Churn']\n",
    "\n",
    "X_train, X_val, y_train, y_val = train_test_split(X, y, test_size=0.3, random_state=101)"
   ]
  },
  {
   "cell_type": "code",
   "execution_count": 8,
   "id": "3862a7cb",
   "metadata": {},
   "outputs": [],
   "source": [
    "from catboost import CatBoostClassifier, Pool"
   ]
  },
  {
   "cell_type": "code",
   "execution_count": 9,
   "id": "ce7bef31",
   "metadata": {},
   "outputs": [],
   "source": [
    "dataset_train = Pool(X_train, y_train, cat_features)\n",
    "dataset_val = Pool(X_val, y_val, cat_features)"
   ]
  },
  {
   "cell_type": "code",
   "execution_count": 10,
   "id": "0e860ddf",
   "metadata": {},
   "outputs": [
    {
     "name": "stdout",
     "output_type": "stream",
     "text": [
      "Learning rate set to 0.04142\n",
      "0:\tlearn: 0.6695746\ttest: 0.6693604\tbest: 0.6693604 (0)\ttotal: 55ms\tremaining: 54.9s\n",
      "50:\tlearn: 0.4134554\ttest: 0.4269068\tbest: 0.4269068 (50)\ttotal: 279ms\tremaining: 5.19s\n",
      "100:\tlearn: 0.3903401\ttest: 0.4161160\tbest: 0.4161160 (100)\ttotal: 494ms\tremaining: 4.4s\n",
      "150:\tlearn: 0.3783729\ttest: 0.4133344\tbest: 0.4133344 (150)\ttotal: 707ms\tremaining: 3.97s\n",
      "200:\tlearn: 0.3669750\ttest: 0.4123317\tbest: 0.4120338 (196)\ttotal: 911ms\tremaining: 3.62s\n",
      "250:\tlearn: 0.3527352\ttest: 0.4108793\tbest: 0.4108257 (249)\ttotal: 1.13s\tremaining: 3.38s\n",
      "300:\tlearn: 0.3420362\ttest: 0.4108417\tbest: 0.4103664 (286)\ttotal: 1.36s\tremaining: 3.17s\n",
      "350:\tlearn: 0.3303216\ttest: 0.4120628\tbest: 0.4103664 (286)\ttotal: 1.58s\tremaining: 2.91s\n",
      "400:\tlearn: 0.3196213\ttest: 0.4131968\tbest: 0.4103664 (286)\ttotal: 1.79s\tremaining: 2.68s\n",
      "450:\tlearn: 0.3115798\ttest: 0.4137516\tbest: 0.4103664 (286)\ttotal: 2.02s\tremaining: 2.46s\n",
      "500:\tlearn: 0.3030296\ttest: 0.4149258\tbest: 0.4103664 (286)\ttotal: 2.24s\tremaining: 2.23s\n",
      "550:\tlearn: 0.2943757\ttest: 0.4158587\tbest: 0.4103664 (286)\ttotal: 2.46s\tremaining: 2s\n",
      "600:\tlearn: 0.2879388\ttest: 0.4160095\tbest: 0.4103664 (286)\ttotal: 2.69s\tremaining: 1.78s\n",
      "650:\tlearn: 0.2794681\ttest: 0.4177671\tbest: 0.4103664 (286)\ttotal: 2.91s\tremaining: 1.56s\n",
      "700:\tlearn: 0.2729181\ttest: 0.4186138\tbest: 0.4103664 (286)\ttotal: 3.14s\tremaining: 1.34s\n",
      "750:\tlearn: 0.2659222\ttest: 0.4202816\tbest: 0.4103664 (286)\ttotal: 3.35s\tremaining: 1.11s\n",
      "800:\tlearn: 0.2594556\ttest: 0.4212610\tbest: 0.4103664 (286)\ttotal: 3.57s\tremaining: 887ms\n",
      "850:\tlearn: 0.2523120\ttest: 0.4224654\tbest: 0.4103664 (286)\ttotal: 3.79s\tremaining: 664ms\n",
      "900:\tlearn: 0.2460962\ttest: 0.4235984\tbest: 0.4103664 (286)\ttotal: 4.02s\tremaining: 442ms\n",
      "950:\tlearn: 0.2402727\ttest: 0.4240250\tbest: 0.4103664 (286)\ttotal: 4.25s\tremaining: 219ms\n",
      "999:\tlearn: 0.2352019\ttest: 0.4244329\tbest: 0.4103664 (286)\ttotal: 4.48s\tremaining: 0us\n",
      "\n",
      "bestTest = 0.4103664095\n",
      "bestIteration = 286\n",
      "\n",
      "Shrink model to first 287 iterations.\n"
     ]
    },
    {
     "data": {
      "text/plain": [
       "<catboost.core.CatBoostClassifier at 0x7fb5ae51d9a0>"
      ]
     },
     "execution_count": 10,
     "metadata": {},
     "output_type": "execute_result"
    }
   ],
   "source": [
    "model = CatBoostClassifier()\n",
    "\n",
    "model.fit(dataset_train, eval_set=dataset_val,\n",
    "          verbose=50)"
   ]
  },
  {
   "cell_type": "code",
   "execution_count": 11,
   "id": "f1a48d1c",
   "metadata": {},
   "outputs": [],
   "source": [
    "df_test = pd.read_csv('./test.csv')"
   ]
  },
  {
   "cell_type": "code",
   "execution_count": 12,
   "id": "a2a36180",
   "metadata": {},
   "outputs": [],
   "source": [
    "X_test = df_test.drop(['customerID', 'Churn'], axis=1)\n",
    "y_test = df_test['Churn']\n",
    "\n",
    "dataset_test = Pool(X_test, y_test, cat_features)"
   ]
  },
  {
   "cell_type": "code",
   "execution_count": 13,
   "id": "13cb43d3",
   "metadata": {},
   "outputs": [],
   "source": [
    "y_pred_test_proba = model.predict_proba(dataset_test)\n",
    "y_pred_test = model.predict(dataset_test)"
   ]
  },
  {
   "cell_type": "code",
   "execution_count": 14,
   "id": "9532135e",
   "metadata": {},
   "outputs": [
    {
     "data": {
      "text/plain": [
       "array(['No', 'No', 'No', ..., 'No', 'No', 'No'], dtype=object)"
      ]
     },
     "execution_count": 14,
     "metadata": {},
     "output_type": "execute_result"
    }
   ],
   "source": [
    "y_pred_test"
   ]
  },
  {
   "cell_type": "code",
   "execution_count": 15,
   "id": "d42314ae",
   "metadata": {},
   "outputs": [],
   "source": [
    "df_test_pred = pd.DataFrame()\n",
    "df_test_pred['customerID'] = df_test['customerID']\n",
    "df_test_pred['PredictedYes'] = y_pred_test_proba[:, 1]\n",
    "df_test_pred.to_csv('./predictions.csv', index=False)"
   ]
  },
  {
   "cell_type": "code",
   "execution_count": 16,
   "id": "243326c2",
   "metadata": {},
   "outputs": [
    {
     "data": {
      "text/html": [
       "<div>\n",
       "<style scoped>\n",
       "    .dataframe tbody tr th:only-of-type {\n",
       "        vertical-align: middle;\n",
       "    }\n",
       "\n",
       "    .dataframe tbody tr th {\n",
       "        vertical-align: top;\n",
       "    }\n",
       "\n",
       "    .dataframe thead th {\n",
       "        text-align: right;\n",
       "    }\n",
       "</style>\n",
       "<table border=\"1\" class=\"dataframe\">\n",
       "  <thead>\n",
       "    <tr style=\"text-align: right;\">\n",
       "      <th></th>\n",
       "      <th>customerID</th>\n",
       "      <th>PredictedYes</th>\n",
       "    </tr>\n",
       "  </thead>\n",
       "  <tbody>\n",
       "    <tr>\n",
       "      <th>0</th>\n",
       "      <td>8659-IOOPU</td>\n",
       "      <td>0.134771</td>\n",
       "    </tr>\n",
       "    <tr>\n",
       "      <th>1</th>\n",
       "      <td>0887-HJGAR</td>\n",
       "      <td>0.498764</td>\n",
       "    </tr>\n",
       "    <tr>\n",
       "      <th>2</th>\n",
       "      <td>1029-QFBEN</td>\n",
       "      <td>0.247074</td>\n",
       "    </tr>\n",
       "    <tr>\n",
       "      <th>3</th>\n",
       "      <td>7579-OOPEC</td>\n",
       "      <td>0.379066</td>\n",
       "    </tr>\n",
       "    <tr>\n",
       "      <th>4</th>\n",
       "      <td>8473-VUVJN</td>\n",
       "      <td>0.866570</td>\n",
       "    </tr>\n",
       "  </tbody>\n",
       "</table>\n",
       "</div>"
      ],
      "text/plain": [
       "   customerID  PredictedYes\n",
       "0  8659-IOOPU      0.134771\n",
       "1  0887-HJGAR      0.498764\n",
       "2  1029-QFBEN      0.247074\n",
       "3  7579-OOPEC      0.379066\n",
       "4  8473-VUVJN      0.866570"
      ]
     },
     "execution_count": 16,
     "metadata": {},
     "output_type": "execute_result"
    }
   ],
   "source": [
    "df_test_pred.head(5)"
   ]
  },
  {
   "cell_type": "markdown",
   "id": "fc9134b5",
   "metadata": {},
   "source": [
    "### 4. What is ROC AUC of your model on a test set? Single integer number 0..100. "
   ]
  },
  {
   "cell_type": "code",
   "execution_count": 17,
   "id": "7d848ff2",
   "metadata": {},
   "outputs": [],
   "source": [
    "from sklearn.metrics import roc_auc_score"
   ]
  },
  {
   "cell_type": "code",
   "execution_count": 18,
   "id": "5876a4a8",
   "metadata": {},
   "outputs": [
    {
     "data": {
      "text/plain": [
       "85"
      ]
     },
     "execution_count": 18,
     "metadata": {},
     "output_type": "execute_result"
    }
   ],
   "source": [
    "round(100*roc_auc_score(y_test.map({'Yes':1, 'No':0}).values, y_pred_test_proba[:, 1]))"
   ]
  },
  {
   "cell_type": "markdown",
   "id": "62450842",
   "metadata": {},
   "source": [
    "###  5. What are TP, FP, TN, FN for probability threshold 0.5 (4 integer numbers divided by a comma, e.g. 10,20,15,5). You can use example from <> spreadsheet to compute the confusion matrix."
   ]
  },
  {
   "cell_type": "code",
   "execution_count": 19,
   "id": "8260c1a0",
   "metadata": {},
   "outputs": [],
   "source": [
    "from sklearn.metrics import confusion_matrix"
   ]
  },
  {
   "cell_type": "code",
   "execution_count": 20,
   "id": "33d7f25d",
   "metadata": {},
   "outputs": [],
   "source": [
    "tn, fp, fn, tp = confusion_matrix(y_test.map({'Yes':1, 'No':0}).values, \n",
    "                                  y_pred_test_proba[:, 1]>=0.5).ravel()"
   ]
  },
  {
   "cell_type": "code",
   "execution_count": 21,
   "id": "ee4e09d8",
   "metadata": {},
   "outputs": [
    {
     "data": {
      "text/plain": [
       "(1854, 205, 337, 422)"
      ]
     },
     "execution_count": 21,
     "metadata": {},
     "output_type": "execute_result"
    }
   ],
   "source": [
    "tn, fp, fn, tp"
   ]
  },
  {
   "cell_type": "markdown",
   "id": "ecfc1133",
   "metadata": {},
   "source": [
    "tp = Those who will Churn and we predict them as Churn\n",
    "tn = Those who will not Churn and we predict them as not Churn\n",
    "fp = Those who will not Churn, but we predict that they will Churn\n",
    "fn = Those who will Churn, but we predict that they will not"
   ]
  },
  {
   "cell_type": "markdown",
   "id": "c9b72210",
   "metadata": {},
   "source": [
    "### 6. Compute the profit of 20% discount (MonthlyCharges based), assuming you give it to all customers predicted as Churned (TP and FP). Single float number, with 2 significant digits, e.g. 10.16 ."
   ]
  },
  {
   "cell_type": "code",
   "execution_count": 22,
   "id": "f68352dd",
   "metadata": {},
   "outputs": [],
   "source": [
    "df_test['PredictedYes'] = y_pred_test_proba[:, 1]>=0.5\n",
    "df_test['PredictedYes'] = df_test['PredictedYes'].map({True:'Yes', False:'No'})"
   ]
  },
  {
   "cell_type": "code",
   "execution_count": 23,
   "id": "e10732b4",
   "metadata": {},
   "outputs": [],
   "source": [
    "# Do nothing strategy\n",
    "\n",
    "baseline = df_test.query('Churn==\"No\"').MonthlyCharges.sum()\n",
    "\n",
    "# 20% to all PredictedYes==Yes\n",
    "\n",
    "profit_tp = df_test.query('Churn==\"Yes\"').query('PredictedYes==\"Yes\"').MonthlyCharges.sum() * (1-0.2)\n",
    "profit_tn = df_test.query('Churn==\"No\"').query('PredictedYes==\"No\"').MonthlyCharges.sum()\n",
    "profit_fp = df_test.query('Churn==\"No\"').query('PredictedYes==\"Yes\"').MonthlyCharges.sum() * (1-0.2)\n",
    "# profit_fn = 0 as we loose them anyway, or we could interpret them as money loss, as we give them\n",
    "# a discount current month and they left next month, both solutions will be considered as correct\n",
    "profit_fn = df_test.query('Churn==\"Yes\"').query('PredictedYes==\"No\"').MonthlyCharges.sum() * (-0.2)\n",
    "\n",
    "total_1 = profit_tp + profit_tn + profit_fp \n",
    "total_2 = total_1 + profit_fn"
   ]
  },
  {
   "cell_type": "code",
   "execution_count": 24,
   "id": "64b37f85",
   "metadata": {},
   "outputs": [
    {
     "name": "stdout",
     "output_type": "stream",
     "text": [
      "126669.1 150130.63 145495.88\n"
     ]
    }
   ],
   "source": [
    "print(baseline, total_1, total_2)"
   ]
  },
  {
   "cell_type": "code",
   "execution_count": 25,
   "id": "5086abef",
   "metadata": {},
   "outputs": [
    {
     "name": "stdout",
     "output_type": "stream",
     "text": [
      "23461.53 18826.78\n"
     ]
    }
   ],
   "source": [
    "print(total_1 - baseline, total_2 - baseline)"
   ]
  },
  {
   "cell_type": "markdown",
   "id": "6fa3cefa",
   "metadata": {},
   "source": [
    "### 7. What if we only give discount (20%) to top p% of customers (p% of customers with the highest probability to churn, predicted by our model). Find p, which maximizes the profit. Recall that p might not coincide with probability threshold outputed by your classifier (e.g. using threshold of 0.65 you end up with 50% of the customers). Single integer number 0..100. "
   ]
  },
  {
   "cell_type": "code",
   "execution_count": 26,
   "id": "981c963a",
   "metadata": {},
   "outputs": [],
   "source": [
    "def get_profit(y_pred_proba, baseline, percent):\n",
    "    \n",
    "    df_test['PredictedYes'] = y_pred_test_proba[:, 1]\n",
    "    n = df_test.shape[0]\n",
    "    index = round(n / 100 * percent)\n",
    "    index_yes = df_test.sort_values(by='PredictedYes', ascending=False).iloc[:index]['PredictedYes'].index\n",
    "    index_no = df_test.sort_values(by='PredictedYes', ascending=False).iloc[index:]['PredictedYes'].index\n",
    "\n",
    "    df_test.at[index_yes, 'PredictedYes'] =  'Yes'\n",
    "    df_test.at[index_no, 'PredictedYes'] =  'No'\n",
    "    \n",
    "    profit_tp = df_test.query('Churn==\"Yes\"').query('PredictedYes==\"Yes\"').MonthlyCharges.sum() * (1-0.2)\n",
    "    profit_tn = df_test.query('Churn==\"No\"').query('PredictedYes==\"No\"').MonthlyCharges.sum()\n",
    "    profit_fp = df_test.query('Churn==\"No\"').query('PredictedYes==\"Yes\"').MonthlyCharges.sum() * (1-0.2)\n",
    "    profit_fn = df_test.query('Churn==\"Yes\"').query('PredictedYes==\"No\"').MonthlyCharges.sum() * (-0.2)\n",
    "    \n",
    "    total_1 = profit_tp + profit_tn + profit_fp \n",
    "    total_2 = total_1 + profit_fn\n",
    "    \n",
    "    return total_1 - baseline, total_2 - baseline"
   ]
  },
  {
   "cell_type": "code",
   "execution_count": 27,
   "id": "44c9563b",
   "metadata": {},
   "outputs": [],
   "source": [
    "total_profit = []\n",
    "\n",
    "for percent in range(1,100):\n",
    "    total_1, _ = get_profit(y_pred_test_proba, baseline, percent)\n",
    "    total_profit.append(total_1)"
   ]
  },
  {
   "cell_type": "code",
   "execution_count": 28,
   "id": "49e20099",
   "metadata": {},
   "outputs": [],
   "source": [
    "import matplotlib.pyplot as plt\n",
    "import numpy as np"
   ]
  },
  {
   "cell_type": "code",
   "execution_count": 29,
   "id": "09c13a9b",
   "metadata": {},
   "outputs": [
    {
     "data": {
      "image/png": "[encoded data removed]",
      "text/plain": [
       "<Figure size 432x288 with 1 Axes>"
      ]
     },
     "metadata": {
      "needs_background": "light"
     },
     "output_type": "display_data"
    }
   ],
   "source": [
    "plt.plot(range(1,100), total_profit);\n",
    "max_p = np.argmax(total_profit)\n",
    "plt.scatter(list(range(1,100))[max_p], total_profit[max_p], c='r')\n",
    "plt.xlabel('Percent of customers')\n",
    "plt.ylabel('Profit over the baseline');"
   ]
  },
  {
   "cell_type": "code",
   "execution_count": 30,
   "id": "81461a64",
   "metadata": {},
   "outputs": [
    {
     "data": {
      "text/plain": [
       "45"
      ]
     },
     "execution_count": 30,
     "metadata": {},
     "output_type": "execute_result"
    }
   ],
   "source": [
    "max_p"
   ]
  },
  {
   "cell_type": "markdown",
   "id": "4aad1cac",
   "metadata": {},
   "source": [
    "### 8. Instead of 20% discount we now give constant 10$ discount. How your answer to the previous question changes? Single integer number 0..100. "
   ]
  },
  {
   "cell_type": "code",
   "execution_count": 31,
   "id": "43ecde12",
   "metadata": {},
   "outputs": [],
   "source": [
    "def get_profit(y_pred_proba, baseline, percent):\n",
    "    \n",
    "    df_test['PredictedYes'] = y_pred_test_proba[:, 1]\n",
    "    n = df_test.shape[0]\n",
    "    index = round(n / 100 * percent)\n",
    "    index_yes = df_test.sort_values(by='PredictedYes', ascending=False).iloc[:index]['PredictedYes'].index\n",
    "    index_no = df_test.sort_values(by='PredictedYes', ascending=False).iloc[index:]['PredictedYes'].index\n",
    "\n",
    "    df_test.at[index_yes, 'PredictedYes'] =  'Yes'\n",
    "    df_test.at[index_no, 'PredictedYes'] =  'No'\n",
    "    \n",
    "    profit_tp = df_test.query('Churn==\"Yes\"').query('PredictedYes==\"Yes\"').MonthlyCharges.sum() -\\\n",
    "                df_test.query('Churn==\"Yes\"').query('PredictedYes==\"Yes\"').shape[0] * 10\n",
    "    \n",
    "    profit_tn = df_test.query('Churn==\"No\"').query('PredictedYes==\"No\"').MonthlyCharges.sum()\n",
    "    profit_fp = df_test.query('Churn==\"No\"').query('PredictedYes==\"Yes\"').MonthlyCharges.sum() -\\\n",
    "                df_test.query('Churn==\"No\"').query('PredictedYes==\"Yes\"').shape[0] * 10\n",
    "    \n",
    "    profit_fn = -df_test.query('Churn==\"Yes\"').query('PredictedYes==\"No\"').shape[0]*10\n",
    "                \n",
    "    total_1 = profit_tp + profit_tn + profit_fp \n",
    "    total_2 = total_1 + profit_fn\n",
    "    \n",
    "    return total_1 - baseline, total_2 - baseline"
   ]
  },
  {
   "cell_type": "code",
   "execution_count": 32,
   "id": "f90ca7fe",
   "metadata": {},
   "outputs": [],
   "source": [
    "total_profit = []\n",
    "\n",
    "for percent in range(1,100):\n",
    "    total_1, _ = get_profit(y_pred_test_proba, baseline, percent)\n",
    "    total_profit.append(total_1)"
   ]
  },
  {
   "cell_type": "code",
   "execution_count": 33,
   "id": "c58f300c",
   "metadata": {},
   "outputs": [
    {
     "data": {
      "image/png": "[encoded data removed]",
      "text/plain": [
       "<Figure size 432x288 with 1 Axes>"
      ]
     },
     "metadata": {
      "needs_background": "light"
     },
     "output_type": "display_data"
    }
   ],
   "source": [
    "plt.plot(range(1,100), total_profit);\n",
    "max_p = np.argmax(total_profit)\n",
    "plt.scatter(list(range(1,100))[max_p], total_profit[max_p], c='r')\n",
    "plt.xlabel('Percent of customers')\n",
    "plt.ylabel('Profit over the baseline');"
   ]
  },
  {
   "cell_type": "code",
   "execution_count": 34,
   "id": "5e870ff8",
   "metadata": {},
   "outputs": [
    {
     "data": {
      "text/plain": [
       "60"
      ]
     },
     "execution_count": 34,
     "metadata": {},
     "output_type": "execute_result"
    }
   ],
   "source": [
    "max_p"
   ]
  },
  {
   "cell_type": "code",
   "execution_count": null,
   "id": "01f1822a",
   "metadata": {},
   "outputs": [],
   "source": []
  }
 ],
 "metadata": {
  "kernelspec": {
   "display_name": "Python 3",
   "language": "python",
   "name": "python3"
  },
  "language_info": {
   "codemirror_mode": {
    "name": "ipython",
    "version": 3
   },
   "file_extension": ".py",
   "mimetype": "text/x-python",
   "name": "python",
   "nbconvert_exporter": "python",
   "pygments_lexer": "ipython3",
   "version": "3.8.8"
  }
 },
 "nbformat": 4,
 "nbformat_minor": 5
}
