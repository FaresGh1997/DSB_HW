{
  "nbformat": 4,
  "nbformat_minor": 0,
  "metadata": {
    "colab": {
      "name": "HW4 DSB.ipynb",
      "provenance": [],
      "collapsed_sections": []
    },
    "kernelspec": {
      "name": "python3",
      "display_name": "Python 3"
    },
    "language_info": {
      "name": "python"
    }
  },
  "cells": [
    {
      "cell_type": "markdown",
      "source": [
        "# HW4 DSB\n",
        "## by: Fares Ghazzawi "
      ],
      "metadata": {
        "id": "inxMUgfEk9DG"
      }
    },
    {
      "cell_type": "code",
      "execution_count": 1,
      "metadata": {
        "id": "DNvI9XNJLUJL"
      },
      "outputs": [],
      "source": [
        "import pandas as pd\n",
        "import numpy as np\n",
        "import matplotlib.pyplot as plt\n",
        "from scipy.stats import normaltest \n",
        "from scipy.stats import ttest_ind"
      ]
    },
    {
      "cell_type": "code",
      "source": [
        "df = pd.read_csv('marketing_campaign.csv')"
      ],
      "metadata": {
        "id": "opH5ZPGWLj-r"
      },
      "execution_count": 2,
      "outputs": []
    },
    {
      "cell_type": "code",
      "source": [
        "df.head()"
      ],
      "metadata": {
        "colab": {
          "base_uri": "https://localhost:8080/",
          "height": 206
        },
        "id": "uS932KsYMFo6",
        "outputId": "800305af-1731-4936-8c21-50f3f2d1e012"
      },
      "execution_count": 3,
      "outputs": [
        {
          "output_type": "execute_result",
          "data": {
            "text/plain": [
              "   Unnamed: 0 MarketSize  LocationID  Promotion  week  SalesInThousands  \\\n",
              "0           0     Medium           1          3     1            40.476   \n",
              "1           1     Medium           1          3     2            42.804   \n",
              "2           2     Medium           1          3     3            34.836   \n",
              "3           3     Medium           1          3     4            47.100   \n",
              "4           4     Medium           2          2     1            27.810   \n",
              "\n",
              "     StoreAge  \n",
              "0  <=10 years  \n",
              "1  <=10 years  \n",
              "2  <=10 years  \n",
              "3  <=10 years  \n",
              "4  <=10 years  "
            ],
            "text/html": [
              "\n",
              "  <div id=\"df-01bfb87e-fa20-48f4-b31c-0febb7effca9\">\n",
              "    <div class=\"colab-df-container\">\n",
              "      <div>\n",
              "<style scoped>\n",
              "    .dataframe tbody tr th:only-of-type {\n",
              "        vertical-align: middle;\n",
              "    }\n",
              "\n",
              "    .dataframe tbody tr th {\n",
              "        vertical-align: top;\n",
              "    }\n",
              "\n",
              "    .dataframe thead th {\n",
              "        text-align: right;\n",
              "    }\n",
              "</style>\n",
              "<table border=\"1\" class=\"dataframe\">\n",
              "  <thead>\n",
              "    <tr style=\"text-align: right;\">\n",
              "      <th></th>\n",
              "      <th>Unnamed: 0</th>\n",
              "      <th>MarketSize</th>\n",
              "      <th>LocationID</th>\n",
              "      <th>Promotion</th>\n",
              "      <th>week</th>\n",
              "      <th>SalesInThousands</th>\n",
              "      <th>StoreAge</th>\n",
              "    </tr>\n",
              "  </thead>\n",
              "  <tbody>\n",
              "    <tr>\n",
              "      <th>0</th>\n",
              "      <td>0</td>\n",
              "      <td>Medium</td>\n",
              "      <td>1</td>\n",
              "      <td>3</td>\n",
              "      <td>1</td>\n",
              "      <td>40.476</td>\n",
              "      <td>&lt;=10 years</td>\n",
              "    </tr>\n",
              "    <tr>\n",
              "      <th>1</th>\n",
              "      <td>1</td>\n",
              "      <td>Medium</td>\n",
              "      <td>1</td>\n",
              "      <td>3</td>\n",
              "      <td>2</td>\n",
              "      <td>42.804</td>\n",
              "      <td>&lt;=10 years</td>\n",
              "    </tr>\n",
              "    <tr>\n",
              "      <th>2</th>\n",
              "      <td>2</td>\n",
              "      <td>Medium</td>\n",
              "      <td>1</td>\n",
              "      <td>3</td>\n",
              "      <td>3</td>\n",
              "      <td>34.836</td>\n",
              "      <td>&lt;=10 years</td>\n",
              "    </tr>\n",
              "    <tr>\n",
              "      <th>3</th>\n",
              "      <td>3</td>\n",
              "      <td>Medium</td>\n",
              "      <td>1</td>\n",
              "      <td>3</td>\n",
              "      <td>4</td>\n",
              "      <td>47.100</td>\n",
              "      <td>&lt;=10 years</td>\n",
              "    </tr>\n",
              "    <tr>\n",
              "      <th>4</th>\n",
              "      <td>4</td>\n",
              "      <td>Medium</td>\n",
              "      <td>2</td>\n",
              "      <td>2</td>\n",
              "      <td>1</td>\n",
              "      <td>27.810</td>\n",
              "      <td>&lt;=10 years</td>\n",
              "    </tr>\n",
              "  </tbody>\n",
              "</table>\n",
              "</div>\n",
              "      <button class=\"colab-df-convert\" onclick=\"convertToInteractive('df-01bfb87e-fa20-48f4-b31c-0febb7effca9')\"\n",
              "              title=\"Convert this dataframe to an interactive table.\"\n",
              "              style=\"display:none;\">\n",
              "        \n",
              "  <svg xmlns=\"http://www.w3.org/2000/svg\" height=\"24px\"viewBox=\"0 0 24 24\"\n",
              "       width=\"24px\">\n",
              "    <path d=\"M0 0h24v24H0V0z\" fill=\"none\"/>\n",
              "    <path d=\"M18.56 5.44l.94 2.06.94-2.06 2.06-.94-2.06-.94-.94-2.06-.94 2.06-2.06.94zm-11 1L8.5 8.5l.94-2.06 2.06-.94-2.06-.94L8.5 2.5l-.94 2.06-2.06.94zm10 10l.94 2.06.94-2.06 2.06-.94-2.06-.94-.94-2.06-.94 2.06-2.06.94z\"/><path d=\"M17.41 7.96l-1.37-1.37c-.4-.4-.92-.59-1.43-.59-.52 0-1.04.2-1.43.59L10.3 9.45l-7.72 7.72c-.78.78-.78 2.05 0 2.83L4 21.41c.39.39.9.59 1.41.59.51 0 1.02-.2 1.41-.59l7.78-7.78 2.81-2.81c.8-.78.8-2.07 0-2.86zM5.41 20L4 18.59l7.72-7.72 1.47 1.35L5.41 20z\"/>\n",
              "  </svg>\n",
              "      </button>\n",
              "      \n",
              "  <style>\n",
              "    .colab-df-container {\n",
              "      display:flex;\n",
              "      flex-wrap:wrap;\n",
              "      gap: 12px;\n",
              "    }\n",
              "\n",
              "    .colab-df-convert {\n",
              "      background-color: #E8F0FE;\n",
              "      border: none;\n",
              "      border-radius: 50%;\n",
              "      cursor: pointer;\n",
              "      display: none;\n",
              "      fill: #1967D2;\n",
              "      height: 32px;\n",
              "      padding: 0 0 0 0;\n",
              "      width: 32px;\n",
              "    }\n",
              "\n",
              "    .colab-df-convert:hover {\n",
              "      background-color: #E2EBFA;\n",
              "      box-shadow: 0px 1px 2px rgba(60, 64, 67, 0.3), 0px 1px 3px 1px rgba(60, 64, 67, 0.15);\n",
              "      fill: #174EA6;\n",
              "    }\n",
              "\n",
              "    [theme=dark] .colab-df-convert {\n",
              "      background-color: #3B4455;\n",
              "      fill: #D2E3FC;\n",
              "    }\n",
              "\n",
              "    [theme=dark] .colab-df-convert:hover {\n",
              "      background-color: #434B5C;\n",
              "      box-shadow: 0px 1px 3px 1px rgba(0, 0, 0, 0.15);\n",
              "      filter: drop-shadow(0px 1px 2px rgba(0, 0, 0, 0.3));\n",
              "      fill: #FFFFFF;\n",
              "    }\n",
              "  </style>\n",
              "\n",
              "      <script>\n",
              "        const buttonEl =\n",
              "          document.querySelector('#df-01bfb87e-fa20-48f4-b31c-0febb7effca9 button.colab-df-convert');\n",
              "        buttonEl.style.display =\n",
              "          google.colab.kernel.accessAllowed ? 'block' : 'none';\n",
              "\n",
              "        async function convertToInteractive(key) {\n",
              "          const element = document.querySelector('#df-01bfb87e-fa20-48f4-b31c-0febb7effca9');\n",
              "          const dataTable =\n",
              "            await google.colab.kernel.invokeFunction('convertToInteractive',\n",
              "                                                     [key], {});\n",
              "          if (!dataTable) return;\n",
              "\n",
              "          const docLinkHtml = 'Like what you see? Visit the ' +\n",
              "            '<a target=\"_blank\" href=https://colab.research.google.com/notebooks/data_table.ipynb>data table notebook</a>'\n",
              "            + ' to learn more about interactive tables.';\n",
              "          element.innerHTML = '';\n",
              "          dataTable['output_type'] = 'display_data';\n",
              "          await google.colab.output.renderOutput(dataTable, element);\n",
              "          const docLink = document.createElement('div');\n",
              "          docLink.innerHTML = docLinkHtml;\n",
              "          element.appendChild(docLink);\n",
              "        }\n",
              "      </script>\n",
              "    </div>\n",
              "  </div>\n",
              "  "
            ]
          },
          "metadata": {},
          "execution_count": 3
        }
      ]
    },
    {
      "cell_type": "code",
      "source": [
        "df.drop(columns=df.columns[0], \n",
        "        axis=1, \n",
        "        inplace=True)"
      ],
      "metadata": {
        "id": "lW-Yt-kqNVPD"
      },
      "execution_count": 4,
      "outputs": []
    },
    {
      "cell_type": "code",
      "source": [
        "df.head()"
      ],
      "metadata": {
        "colab": {
          "base_uri": "https://localhost:8080/",
          "height": 206
        },
        "id": "-GO0ikARNed5",
        "outputId": "3cbc43e3-8ec4-49e1-d379-4f03c6a7ee7f"
      },
      "execution_count": 5,
      "outputs": [
        {
          "output_type": "execute_result",
          "data": {
            "text/plain": [
              "  MarketSize  LocationID  Promotion  week  SalesInThousands    StoreAge\n",
              "0     Medium           1          3     1            40.476  <=10 years\n",
              "1     Medium           1          3     2            42.804  <=10 years\n",
              "2     Medium           1          3     3            34.836  <=10 years\n",
              "3     Medium           1          3     4            47.100  <=10 years\n",
              "4     Medium           2          2     1            27.810  <=10 years"
            ],
            "text/html": [
              "\n",
              "  <div id=\"df-e6de6f5c-dbe6-4731-ae20-1e7c6bdac5fc\">\n",
              "    <div class=\"colab-df-container\">\n",
              "      <div>\n",
              "<style scoped>\n",
              "    .dataframe tbody tr th:only-of-type {\n",
              "        vertical-align: middle;\n",
              "    }\n",
              "\n",
              "    .dataframe tbody tr th {\n",
              "        vertical-align: top;\n",
              "    }\n",
              "\n",
              "    .dataframe thead th {\n",
              "        text-align: right;\n",
              "    }\n",
              "</style>\n",
              "<table border=\"1\" class=\"dataframe\">\n",
              "  <thead>\n",
              "    <tr style=\"text-align: right;\">\n",
              "      <th></th>\n",
              "      <th>MarketSize</th>\n",
              "      <th>LocationID</th>\n",
              "      <th>Promotion</th>\n",
              "      <th>week</th>\n",
              "      <th>SalesInThousands</th>\n",
              "      <th>StoreAge</th>\n",
              "    </tr>\n",
              "  </thead>\n",
              "  <tbody>\n",
              "    <tr>\n",
              "      <th>0</th>\n",
              "      <td>Medium</td>\n",
              "      <td>1</td>\n",
              "      <td>3</td>\n",
              "      <td>1</td>\n",
              "      <td>40.476</td>\n",
              "      <td>&lt;=10 years</td>\n",
              "    </tr>\n",
              "    <tr>\n",
              "      <th>1</th>\n",
              "      <td>Medium</td>\n",
              "      <td>1</td>\n",
              "      <td>3</td>\n",
              "      <td>2</td>\n",
              "      <td>42.804</td>\n",
              "      <td>&lt;=10 years</td>\n",
              "    </tr>\n",
              "    <tr>\n",
              "      <th>2</th>\n",
              "      <td>Medium</td>\n",
              "      <td>1</td>\n",
              "      <td>3</td>\n",
              "      <td>3</td>\n",
              "      <td>34.836</td>\n",
              "      <td>&lt;=10 years</td>\n",
              "    </tr>\n",
              "    <tr>\n",
              "      <th>3</th>\n",
              "      <td>Medium</td>\n",
              "      <td>1</td>\n",
              "      <td>3</td>\n",
              "      <td>4</td>\n",
              "      <td>47.100</td>\n",
              "      <td>&lt;=10 years</td>\n",
              "    </tr>\n",
              "    <tr>\n",
              "      <th>4</th>\n",
              "      <td>Medium</td>\n",
              "      <td>2</td>\n",
              "      <td>2</td>\n",
              "      <td>1</td>\n",
              "      <td>27.810</td>\n",
              "      <td>&lt;=10 years</td>\n",
              "    </tr>\n",
              "  </tbody>\n",
              "</table>\n",
              "</div>\n",
              "      <button class=\"colab-df-convert\" onclick=\"convertToInteractive('df-e6de6f5c-dbe6-4731-ae20-1e7c6bdac5fc')\"\n",
              "              title=\"Convert this dataframe to an interactive table.\"\n",
              "              style=\"display:none;\">\n",
              "        \n",
              "  <svg xmlns=\"http://www.w3.org/2000/svg\" height=\"24px\"viewBox=\"0 0 24 24\"\n",
              "       width=\"24px\">\n",
              "    <path d=\"M0 0h24v24H0V0z\" fill=\"none\"/>\n",
              "    <path d=\"M18.56 5.44l.94 2.06.94-2.06 2.06-.94-2.06-.94-.94-2.06-.94 2.06-2.06.94zm-11 1L8.5 8.5l.94-2.06 2.06-.94-2.06-.94L8.5 2.5l-.94 2.06-2.06.94zm10 10l.94 2.06.94-2.06 2.06-.94-2.06-.94-.94-2.06-.94 2.06-2.06.94z\"/><path d=\"M17.41 7.96l-1.37-1.37c-.4-.4-.92-.59-1.43-.59-.52 0-1.04.2-1.43.59L10.3 9.45l-7.72 7.72c-.78.78-.78 2.05 0 2.83L4 21.41c.39.39.9.59 1.41.59.51 0 1.02-.2 1.41-.59l7.78-7.78 2.81-2.81c.8-.78.8-2.07 0-2.86zM5.41 20L4 18.59l7.72-7.72 1.47 1.35L5.41 20z\"/>\n",
              "  </svg>\n",
              "      </button>\n",
              "      \n",
              "  <style>\n",
              "    .colab-df-container {\n",
              "      display:flex;\n",
              "      flex-wrap:wrap;\n",
              "      gap: 12px;\n",
              "    }\n",
              "\n",
              "    .colab-df-convert {\n",
              "      background-color: #E8F0FE;\n",
              "      border: none;\n",
              "      border-radius: 50%;\n",
              "      cursor: pointer;\n",
              "      display: none;\n",
              "      fill: #1967D2;\n",
              "      height: 32px;\n",
              "      padding: 0 0 0 0;\n",
              "      width: 32px;\n",
              "    }\n",
              "\n",
              "    .colab-df-convert:hover {\n",
              "      background-color: #E2EBFA;\n",
              "      box-shadow: 0px 1px 2px rgba(60, 64, 67, 0.3), 0px 1px 3px 1px rgba(60, 64, 67, 0.15);\n",
              "      fill: #174EA6;\n",
              "    }\n",
              "\n",
              "    [theme=dark] .colab-df-convert {\n",
              "      background-color: #3B4455;\n",
              "      fill: #D2E3FC;\n",
              "    }\n",
              "\n",
              "    [theme=dark] .colab-df-convert:hover {\n",
              "      background-color: #434B5C;\n",
              "      box-shadow: 0px 1px 3px 1px rgba(0, 0, 0, 0.15);\n",
              "      filter: drop-shadow(0px 1px 2px rgba(0, 0, 0, 0.3));\n",
              "      fill: #FFFFFF;\n",
              "    }\n",
              "  </style>\n",
              "\n",
              "      <script>\n",
              "        const buttonEl =\n",
              "          document.querySelector('#df-e6de6f5c-dbe6-4731-ae20-1e7c6bdac5fc button.colab-df-convert');\n",
              "        buttonEl.style.display =\n",
              "          google.colab.kernel.accessAllowed ? 'block' : 'none';\n",
              "\n",
              "        async function convertToInteractive(key) {\n",
              "          const element = document.querySelector('#df-e6de6f5c-dbe6-4731-ae20-1e7c6bdac5fc');\n",
              "          const dataTable =\n",
              "            await google.colab.kernel.invokeFunction('convertToInteractive',\n",
              "                                                     [key], {});\n",
              "          if (!dataTable) return;\n",
              "\n",
              "          const docLinkHtml = 'Like what you see? Visit the ' +\n",
              "            '<a target=\"_blank\" href=https://colab.research.google.com/notebooks/data_table.ipynb>data table notebook</a>'\n",
              "            + ' to learn more about interactive tables.';\n",
              "          element.innerHTML = '';\n",
              "          dataTable['output_type'] = 'display_data';\n",
              "          await google.colab.output.renderOutput(dataTable, element);\n",
              "          const docLink = document.createElement('div');\n",
              "          docLink.innerHTML = docLinkHtml;\n",
              "          element.appendChild(docLink);\n",
              "        }\n",
              "      </script>\n",
              "    </div>\n",
              "  </div>\n",
              "  "
            ]
          },
          "metadata": {},
          "execution_count": 5
        }
      ]
    },
    {
      "cell_type": "markdown",
      "source": [
        "### 1. What is the median sales (SalesInThousands)?"
      ],
      "metadata": {
        "id": "c-lEJnpAM1t5"
      }
    },
    {
      "cell_type": "code",
      "source": [
        "df['SalesInThousands'].median()"
      ],
      "metadata": {
        "colab": {
          "base_uri": "https://localhost:8080/"
        },
        "id": "asdJhC_aMK1T",
        "outputId": "68d5ae51-84b2-443f-cc99-5d71ab5dc5bb"
      },
      "execution_count": 6,
      "outputs": [
        {
          "output_type": "execute_result",
          "data": {
            "text/plain": [
              "53.62599999999999"
            ]
          },
          "metadata": {},
          "execution_count": 6
        }
      ]
    },
    {
      "cell_type": "code",
      "source": [
        ""
      ],
      "metadata": {
        "id": "Bq3FHo6zM72h"
      },
      "execution_count": 126,
      "outputs": []
    },
    {
      "cell_type": "markdown",
      "source": [
        "### 2.Compute median sales in markets of different size (MarketSize). Markets of which size have the smallest median sales?"
      ],
      "metadata": {
        "id": "5uUhOxfMM9Vt"
      }
    },
    {
      "cell_type": "code",
      "source": [
        "df.groupby('MarketSize')['SalesInThousands'].median()"
      ],
      "metadata": {
        "colab": {
          "base_uri": "https://localhost:8080/"
        },
        "id": "dOyAN928NC-t",
        "outputId": "c973fb14-c2eb-470c-947d-6b1c575cd710"
      },
      "execution_count": 7,
      "outputs": [
        {
          "output_type": "execute_result",
          "data": {
            "text/plain": [
              "MarketSize\n",
              "Large     75.450\n",
              "Medium    47.425\n",
              "Small     61.420\n",
              "Name: SalesInThousands, dtype: float64"
            ]
          },
          "metadata": {},
          "execution_count": 7
        }
      ]
    },
    {
      "cell_type": "code",
      "source": [
        ""
      ],
      "metadata": {
        "id": "w1rVZJpTNNi2"
      },
      "execution_count": null,
      "outputs": []
    },
    {
      "cell_type": "markdown",
      "source": [
        "### 3. To select best promotion strategy marketing team ran three promotion strategies (Promotion) for 4 weeks (week). Is there a more than 5% difference between average sales in Large markets across 4 weeks ? (In Orange you could select Rows by condition using Select Rows operator, the difference could be computed manually)"
      ],
      "metadata": {
        "id": "D1OIUv75NiUR"
      }
    },
    {
      "cell_type": "markdown",
      "source": [
        "i did not understand the question here fully , thus , i devided the answer into two part:\n",
        "first part : check for each strategy the diffrence between average sales on 1st and 4th week\n",
        "second part : calculate the diffrence on between the 4 weeks"
      ],
      "metadata": {
        "id": "yVLE4OelXYt6"
      }
    },
    {
      "cell_type": "markdown",
      "source": [
        "##### first part"
      ],
      "metadata": {
        "id": "d8uHaa-SYj-m"
      }
    },
    {
      "cell_type": "code",
      "source": [
        "tmp = df.loc[(df['MarketSize'] == 'Large') & \n",
        "       (df['Promotion'] == 1) & (df['week'] == 1), 'SalesInThousands'].mean()\n",
        "print (tmp)"
      ],
      "metadata": {
        "colab": {
          "base_uri": "https://localhost:8080/"
        },
        "id": "EbcGj9GSWpod",
        "outputId": "5b06c9e9-95c3-449f-9fef-78c5ba74b2ec"
      },
      "execution_count": 8,
      "outputs": [
        {
          "output_type": "stream",
          "name": "stdout",
          "text": [
            "75.04214285714286\n"
          ]
        }
      ]
    },
    {
      "cell_type": "code",
      "source": [
        "tmp2 = df.loc[(df['MarketSize'] == 'Large') & \n",
        "       (df['Promotion'] == 1) & (df['week'] == 4), 'SalesInThousands'].mean()\n",
        "print (tmp2)"
      ],
      "metadata": {
        "colab": {
          "base_uri": "https://localhost:8080/"
        },
        "id": "KYFbbZq3W69u",
        "outputId": "b8667f9a-1961-4d95-cf70-a3a5bac7b5c0"
      },
      "execution_count": 9,
      "outputs": [
        {
          "output_type": "stream",
          "name": "stdout",
          "text": [
            "77.21142857142857\n"
          ]
        }
      ]
    },
    {
      "cell_type": "code",
      "source": [
        "print (((tmp2 -tmp)/tmp2)*100)"
      ],
      "metadata": {
        "colab": {
          "base_uri": "https://localhost:8080/"
        },
        "id": "YhVSncxKW-h8",
        "outputId": "4df71745-bd12-4263-c7f7-ee738324f6a2"
      },
      "execution_count": 10,
      "outputs": [
        {
          "output_type": "stream",
          "name": "stdout",
          "text": [
            "2.8095396684428557\n"
          ]
        }
      ]
    },
    {
      "cell_type": "code",
      "source": [
        "tmp = df.loc[(df['MarketSize'] == 'Large') & \n",
        "       (df['Promotion'] == 2) & (df['week'] == 1), 'SalesInThousands'].mean()\n",
        "print (tmp)"
      ],
      "metadata": {
        "colab": {
          "base_uri": "https://localhost:8080/"
        },
        "id": "E348-8-VXJb2",
        "outputId": "a653fd64-495d-4512-eb4f-aeb04c1f7564"
      },
      "execution_count": 11,
      "outputs": [
        {
          "output_type": "stream",
          "name": "stdout",
          "text": [
            "60.40500000000001\n"
          ]
        }
      ]
    },
    {
      "cell_type": "code",
      "source": [
        "tmp2 = df.loc[(df['MarketSize'] == 'Large') & \n",
        "       (df['Promotion'] == 2) & (df['week'] == 4), 'SalesInThousands'].mean()\n",
        "print (tmp2)"
      ],
      "metadata": {
        "colab": {
          "base_uri": "https://localhost:8080/"
        },
        "id": "qg1ArCaLXMjg",
        "outputId": "341fbc28-195b-467f-e440-5676dcfb6d6b"
      },
      "execution_count": 12,
      "outputs": [
        {
          "output_type": "stream",
          "name": "stdout",
          "text": [
            "59.7875\n"
          ]
        }
      ]
    },
    {
      "cell_type": "code",
      "source": [
        "print (((tmp2 -tmp)/tmp2)*100)"
      ],
      "metadata": {
        "colab": {
          "base_uri": "https://localhost:8080/"
        },
        "id": "1zFtjEOuXOGJ",
        "outputId": "f60de9ac-2754-4ac4-e16a-d2b7de4620dc"
      },
      "execution_count": 13,
      "outputs": [
        {
          "output_type": "stream",
          "name": "stdout",
          "text": [
            "-1.0328245870792503\n"
          ]
        }
      ]
    },
    {
      "cell_type": "code",
      "source": [
        "tmp = df.loc[(df['MarketSize'] == 'Large') & \n",
        "       (df['Promotion'] == 3) & (df['week'] == 1), 'SalesInThousands'].mean()\n",
        "print (tmp)"
      ],
      "metadata": {
        "colab": {
          "base_uri": "https://localhost:8080/"
        },
        "id": "aCKYhJ_jXR-z",
        "outputId": "9e47dead-dbc7-4689-cff9-863fe68892f5"
      },
      "execution_count": 14,
      "outputs": [
        {
          "output_type": "stream",
          "name": "stdout",
          "text": [
            "87.65625\n"
          ]
        }
      ]
    },
    {
      "cell_type": "code",
      "source": [
        "tmp2 = df.loc[(df['MarketSize'] == 'Large') & \n",
        "       (df['Promotion'] == 3) & (df['week'] == 4), 'SalesInThousands'].mean()\n",
        "print (tmp2)"
      ],
      "metadata": {
        "colab": {
          "base_uri": "https://localhost:8080/"
        },
        "id": "zuK7TuFXXTdJ",
        "outputId": "4cad33ba-495f-4da7-aebb-d8443f31a1c3"
      },
      "execution_count": 15,
      "outputs": [
        {
          "output_type": "stream",
          "name": "stdout",
          "text": [
            "84.14633333333335\n"
          ]
        }
      ]
    },
    {
      "cell_type": "code",
      "source": [
        "print (((tmp2 -tmp)/tmp2)*100)"
      ],
      "metadata": {
        "colab": {
          "base_uri": "https://localhost:8080/"
        },
        "id": "9EaHFBnkXU6a",
        "outputId": "aea07104-1075-4afc-ac4a-44a6f8a733ac"
      },
      "execution_count": 16,
      "outputs": [
        {
          "output_type": "stream",
          "name": "stdout",
          "text": [
            "-4.171205717024693\n"
          ]
        }
      ]
    },
    {
      "cell_type": "markdown",
      "source": [
        "##### second part "
      ],
      "metadata": {
        "id": "Pm7uo2blYq0G"
      }
    },
    {
      "cell_type": "code",
      "source": [
        "week1 = df.loc[(df['MarketSize'] == 'Large') & \n",
        "       (df['week'] == 1), 'SalesInThousands'].mean()\n",
        "print (week1)"
      ],
      "metadata": {
        "colab": {
          "base_uri": "https://localhost:8080/"
        },
        "id": "GPj5dTuAOn-d",
        "outputId": "672a823c-36a8-4a29-f906-715048e3e264"
      },
      "execution_count": 17,
      "outputs": [
        {
          "output_type": "stream",
          "name": "stdout",
          "text": [
            "73.07011904761904\n"
          ]
        }
      ]
    },
    {
      "cell_type": "code",
      "source": [
        "week2 = df.loc[(df['MarketSize'] == 'Large') & \n",
        "       (df['week'] == 2), 'SalesInThousands'].mean()\n",
        "print (week2)"
      ],
      "metadata": {
        "colab": {
          "base_uri": "https://localhost:8080/"
        },
        "id": "CndJNfQ5sGNa",
        "outputId": "edf7d870-0984-4e65-956e-fdeeb031e743"
      },
      "execution_count": 18,
      "outputs": [
        {
          "output_type": "stream",
          "name": "stdout",
          "text": [
            "70.82069047619048\n"
          ]
        }
      ]
    },
    {
      "cell_type": "code",
      "source": [
        "week3 = df.loc[(df['MarketSize'] == 'Large') & \n",
        "       (df['week'] == 3), 'SalesInThousands'].mean()\n",
        "print (week3)"
      ],
      "metadata": {
        "colab": {
          "base_uri": "https://localhost:8080/"
        },
        "id": "23_iGxlisQJF",
        "outputId": "04e8888b-3e04-4fb1-9346-cdde950eff87"
      },
      "execution_count": 19,
      "outputs": [
        {
          "output_type": "stream",
          "name": "stdout",
          "text": [
            "72.84426190476186\n"
          ]
        }
      ]
    },
    {
      "cell_type": "code",
      "source": [
        "week4 = df.loc[(df['MarketSize'] == 'Large') & \n",
        "       (df['week'] == 4), 'SalesInThousands'].mean()\n",
        "print (week4)"
      ],
      "metadata": {
        "colab": {
          "base_uri": "https://localhost:8080/"
        },
        "id": "NOZcIs39sTdy",
        "outputId": "6dc6f463-47d4-415b-9049-bdd63ef89d91"
      },
      "execution_count": 20,
      "outputs": [
        {
          "output_type": "stream",
          "name": "stdout",
          "text": [
            "72.55514285714284\n"
          ]
        }
      ]
    },
    {
      "cell_type": "code",
      "source": [
        "print (((week3 -week2)/week3)*100)"
      ],
      "metadata": {
        "colab": {
          "base_uri": "https://localhost:8080/"
        },
        "id": "wwEnXGNSSvgg",
        "outputId": "91b74de9-d58e-4743-fae3-cad604c11283"
      },
      "execution_count": 21,
      "outputs": [
        {
          "output_type": "stream",
          "name": "stdout",
          "text": [
            "2.7779421132951376\n"
          ]
        }
      ]
    },
    {
      "cell_type": "code",
      "source": [
        "print (((week4 -week2)/week4)*100)"
      ],
      "metadata": {
        "colab": {
          "base_uri": "https://localhost:8080/"
        },
        "id": "CSOJaIH7s14o",
        "outputId": "9048d04d-7c03-453c-cf6c-a48b8bb7aaf1"
      },
      "execution_count": 22,
      "outputs": [
        {
          "output_type": "stream",
          "name": "stdout",
          "text": [
            "2.3905298958164902\n"
          ]
        }
      ]
    },
    {
      "cell_type": "code",
      "source": [
        "print (((week1 -week2)/week1)*100)"
      ],
      "metadata": {
        "colab": {
          "base_uri": "https://localhost:8080/"
        },
        "id": "9GQpsOBosmuS",
        "outputId": "d084ea1b-8e68-4b28-9b9d-795f9b0c11d7"
      },
      "execution_count": 23,
      "outputs": [
        {
          "output_type": "stream",
          "name": "stdout",
          "text": [
            "3.0784520413366745\n"
          ]
        }
      ]
    },
    {
      "cell_type": "code",
      "source": [
        ""
      ],
      "metadata": {
        "id": "CF737FtpOKC5"
      },
      "execution_count": 23,
      "outputs": []
    },
    {
      "cell_type": "markdown",
      "source": [
        "### 4.Which market size are the most important when selecting a promotion strategy? Compute total sales in markets of different size."
      ],
      "metadata": {
        "id": "no4TdghZT5qZ"
      }
    },
    {
      "cell_type": "code",
      "source": [
        "df.groupby('MarketSize')['SalesInThousands'].agg(['sum'])"
      ],
      "metadata": {
        "colab": {
          "base_uri": "https://localhost:8080/",
          "height": 175
        },
        "id": "MxqVjNP5UJc0",
        "outputId": "9b6fb05f-3f2c-4a10-d50f-66502cfaf29b"
      },
      "execution_count": 24,
      "outputs": [
        {
          "output_type": "execute_result",
          "data": {
            "text/plain": [
              "                  sum\n",
              "MarketSize           \n",
              "Large       12150.189\n",
              "Medium      15130.188\n",
              "Small        4046.185"
            ],
            "text/html": [
              "\n",
              "  <div id=\"df-4af85652-2ad7-4aac-bf2b-653e01381a2f\">\n",
              "    <div class=\"colab-df-container\">\n",
              "      <div>\n",
              "<style scoped>\n",
              "    .dataframe tbody tr th:only-of-type {\n",
              "        vertical-align: middle;\n",
              "    }\n",
              "\n",
              "    .dataframe tbody tr th {\n",
              "        vertical-align: top;\n",
              "    }\n",
              "\n",
              "    .dataframe thead th {\n",
              "        text-align: right;\n",
              "    }\n",
              "</style>\n",
              "<table border=\"1\" class=\"dataframe\">\n",
              "  <thead>\n",
              "    <tr style=\"text-align: right;\">\n",
              "      <th></th>\n",
              "      <th>sum</th>\n",
              "    </tr>\n",
              "    <tr>\n",
              "      <th>MarketSize</th>\n",
              "      <th></th>\n",
              "    </tr>\n",
              "  </thead>\n",
              "  <tbody>\n",
              "    <tr>\n",
              "      <th>Large</th>\n",
              "      <td>12150.189</td>\n",
              "    </tr>\n",
              "    <tr>\n",
              "      <th>Medium</th>\n",
              "      <td>15130.188</td>\n",
              "    </tr>\n",
              "    <tr>\n",
              "      <th>Small</th>\n",
              "      <td>4046.185</td>\n",
              "    </tr>\n",
              "  </tbody>\n",
              "</table>\n",
              "</div>\n",
              "      <button class=\"colab-df-convert\" onclick=\"convertToInteractive('df-4af85652-2ad7-4aac-bf2b-653e01381a2f')\"\n",
              "              title=\"Convert this dataframe to an interactive table.\"\n",
              "              style=\"display:none;\">\n",
              "        \n",
              "  <svg xmlns=\"http://www.w3.org/2000/svg\" height=\"24px\"viewBox=\"0 0 24 24\"\n",
              "       width=\"24px\">\n",
              "    <path d=\"M0 0h24v24H0V0z\" fill=\"none\"/>\n",
              "    <path d=\"M18.56 5.44l.94 2.06.94-2.06 2.06-.94-2.06-.94-.94-2.06-.94 2.06-2.06.94zm-11 1L8.5 8.5l.94-2.06 2.06-.94-2.06-.94L8.5 2.5l-.94 2.06-2.06.94zm10 10l.94 2.06.94-2.06 2.06-.94-2.06-.94-.94-2.06-.94 2.06-2.06.94z\"/><path d=\"M17.41 7.96l-1.37-1.37c-.4-.4-.92-.59-1.43-.59-.52 0-1.04.2-1.43.59L10.3 9.45l-7.72 7.72c-.78.78-.78 2.05 0 2.83L4 21.41c.39.39.9.59 1.41.59.51 0 1.02-.2 1.41-.59l7.78-7.78 2.81-2.81c.8-.78.8-2.07 0-2.86zM5.41 20L4 18.59l7.72-7.72 1.47 1.35L5.41 20z\"/>\n",
              "  </svg>\n",
              "      </button>\n",
              "      \n",
              "  <style>\n",
              "    .colab-df-container {\n",
              "      display:flex;\n",
              "      flex-wrap:wrap;\n",
              "      gap: 12px;\n",
              "    }\n",
              "\n",
              "    .colab-df-convert {\n",
              "      background-color: #E8F0FE;\n",
              "      border: none;\n",
              "      border-radius: 50%;\n",
              "      cursor: pointer;\n",
              "      display: none;\n",
              "      fill: #1967D2;\n",
              "      height: 32px;\n",
              "      padding: 0 0 0 0;\n",
              "      width: 32px;\n",
              "    }\n",
              "\n",
              "    .colab-df-convert:hover {\n",
              "      background-color: #E2EBFA;\n",
              "      box-shadow: 0px 1px 2px rgba(60, 64, 67, 0.3), 0px 1px 3px 1px rgba(60, 64, 67, 0.15);\n",
              "      fill: #174EA6;\n",
              "    }\n",
              "\n",
              "    [theme=dark] .colab-df-convert {\n",
              "      background-color: #3B4455;\n",
              "      fill: #D2E3FC;\n",
              "    }\n",
              "\n",
              "    [theme=dark] .colab-df-convert:hover {\n",
              "      background-color: #434B5C;\n",
              "      box-shadow: 0px 1px 3px 1px rgba(0, 0, 0, 0.15);\n",
              "      filter: drop-shadow(0px 1px 2px rgba(0, 0, 0, 0.3));\n",
              "      fill: #FFFFFF;\n",
              "    }\n",
              "  </style>\n",
              "\n",
              "      <script>\n",
              "        const buttonEl =\n",
              "          document.querySelector('#df-4af85652-2ad7-4aac-bf2b-653e01381a2f button.colab-df-convert');\n",
              "        buttonEl.style.display =\n",
              "          google.colab.kernel.accessAllowed ? 'block' : 'none';\n",
              "\n",
              "        async function convertToInteractive(key) {\n",
              "          const element = document.querySelector('#df-4af85652-2ad7-4aac-bf2b-653e01381a2f');\n",
              "          const dataTable =\n",
              "            await google.colab.kernel.invokeFunction('convertToInteractive',\n",
              "                                                     [key], {});\n",
              "          if (!dataTable) return;\n",
              "\n",
              "          const docLinkHtml = 'Like what you see? Visit the ' +\n",
              "            '<a target=\"_blank\" href=https://colab.research.google.com/notebooks/data_table.ipynb>data table notebook</a>'\n",
              "            + ' to learn more about interactive tables.';\n",
              "          element.innerHTML = '';\n",
              "          dataTable['output_type'] = 'display_data';\n",
              "          await google.colab.output.renderOutput(dataTable, element);\n",
              "          const docLink = document.createElement('div');\n",
              "          docLink.innerHTML = docLinkHtml;\n",
              "          element.appendChild(docLink);\n",
              "        }\n",
              "      </script>\n",
              "    </div>\n",
              "  </div>\n",
              "  "
            ]
          },
          "metadata": {},
          "execution_count": 24
        }
      ]
    },
    {
      "cell_type": "code",
      "source": [
        ""
      ],
      "metadata": {
        "id": "hvvmivP4USu2"
      },
      "execution_count": null,
      "outputs": []
    },
    {
      "cell_type": "markdown",
      "source": [
        "### 5. Using bootstrap method sales team prepared 1000 samples of average sales in markets of Medium size (bootstrapped_means.csv). Help them estimate 99.5% confidence (two-sided) interval for average sales. (e.g. use `PERCENTILE` in google spreadsheets) "
      ],
      "metadata": {
        "id": "X1nzSmu8UkL3"
      }
    },
    {
      "cell_type": "code",
      "source": [
        "bo_df = pd.read_csv('bootstrapped_means.csv')"
      ],
      "metadata": {
        "id": "lAfJIasPUmfR"
      },
      "execution_count": 40,
      "outputs": []
    },
    {
      "cell_type": "code",
      "source": [
        "bo_df.head()"
      ],
      "metadata": {
        "colab": {
          "base_uri": "https://localhost:8080/",
          "height": 206
        },
        "id": "Vtr0riKitFhN",
        "outputId": "36013cb1-b80a-4784-a67d-2d7cd283dede"
      },
      "execution_count": 41,
      "outputs": [
        {
          "output_type": "execute_result",
          "data": {
            "text/plain": [
              "   AverageSales  BootstrapID\n",
              "0     46.894525            0\n",
              "1     47.915681            1\n",
              "2     48.206869            2\n",
              "3     48.254650            3\n",
              "4     47.017113            4"
            ],
            "text/html": [
              "\n",
              "  <div id=\"df-758c6e4a-cf9e-49e0-8486-1e616e94df9f\">\n",
              "    <div class=\"colab-df-container\">\n",
              "      <div>\n",
              "<style scoped>\n",
              "    .dataframe tbody tr th:only-of-type {\n",
              "        vertical-align: middle;\n",
              "    }\n",
              "\n",
              "    .dataframe tbody tr th {\n",
              "        vertical-align: top;\n",
              "    }\n",
              "\n",
              "    .dataframe thead th {\n",
              "        text-align: right;\n",
              "    }\n",
              "</style>\n",
              "<table border=\"1\" class=\"dataframe\">\n",
              "  <thead>\n",
              "    <tr style=\"text-align: right;\">\n",
              "      <th></th>\n",
              "      <th>AverageSales</th>\n",
              "      <th>BootstrapID</th>\n",
              "    </tr>\n",
              "  </thead>\n",
              "  <tbody>\n",
              "    <tr>\n",
              "      <th>0</th>\n",
              "      <td>46.894525</td>\n",
              "      <td>0</td>\n",
              "    </tr>\n",
              "    <tr>\n",
              "      <th>1</th>\n",
              "      <td>47.915681</td>\n",
              "      <td>1</td>\n",
              "    </tr>\n",
              "    <tr>\n",
              "      <th>2</th>\n",
              "      <td>48.206869</td>\n",
              "      <td>2</td>\n",
              "    </tr>\n",
              "    <tr>\n",
              "      <th>3</th>\n",
              "      <td>48.254650</td>\n",
              "      <td>3</td>\n",
              "    </tr>\n",
              "    <tr>\n",
              "      <th>4</th>\n",
              "      <td>47.017113</td>\n",
              "      <td>4</td>\n",
              "    </tr>\n",
              "  </tbody>\n",
              "</table>\n",
              "</div>\n",
              "      <button class=\"colab-df-convert\" onclick=\"convertToInteractive('df-758c6e4a-cf9e-49e0-8486-1e616e94df9f')\"\n",
              "              title=\"Convert this dataframe to an interactive table.\"\n",
              "              style=\"display:none;\">\n",
              "        \n",
              "  <svg xmlns=\"http://www.w3.org/2000/svg\" height=\"24px\"viewBox=\"0 0 24 24\"\n",
              "       width=\"24px\">\n",
              "    <path d=\"M0 0h24v24H0V0z\" fill=\"none\"/>\n",
              "    <path d=\"M18.56 5.44l.94 2.06.94-2.06 2.06-.94-2.06-.94-.94-2.06-.94 2.06-2.06.94zm-11 1L8.5 8.5l.94-2.06 2.06-.94-2.06-.94L8.5 2.5l-.94 2.06-2.06.94zm10 10l.94 2.06.94-2.06 2.06-.94-2.06-.94-.94-2.06-.94 2.06-2.06.94z\"/><path d=\"M17.41 7.96l-1.37-1.37c-.4-.4-.92-.59-1.43-.59-.52 0-1.04.2-1.43.59L10.3 9.45l-7.72 7.72c-.78.78-.78 2.05 0 2.83L4 21.41c.39.39.9.59 1.41.59.51 0 1.02-.2 1.41-.59l7.78-7.78 2.81-2.81c.8-.78.8-2.07 0-2.86zM5.41 20L4 18.59l7.72-7.72 1.47 1.35L5.41 20z\"/>\n",
              "  </svg>\n",
              "      </button>\n",
              "      \n",
              "  <style>\n",
              "    .colab-df-container {\n",
              "      display:flex;\n",
              "      flex-wrap:wrap;\n",
              "      gap: 12px;\n",
              "    }\n",
              "\n",
              "    .colab-df-convert {\n",
              "      background-color: #E8F0FE;\n",
              "      border: none;\n",
              "      border-radius: 50%;\n",
              "      cursor: pointer;\n",
              "      display: none;\n",
              "      fill: #1967D2;\n",
              "      height: 32px;\n",
              "      padding: 0 0 0 0;\n",
              "      width: 32px;\n",
              "    }\n",
              "\n",
              "    .colab-df-convert:hover {\n",
              "      background-color: #E2EBFA;\n",
              "      box-shadow: 0px 1px 2px rgba(60, 64, 67, 0.3), 0px 1px 3px 1px rgba(60, 64, 67, 0.15);\n",
              "      fill: #174EA6;\n",
              "    }\n",
              "\n",
              "    [theme=dark] .colab-df-convert {\n",
              "      background-color: #3B4455;\n",
              "      fill: #D2E3FC;\n",
              "    }\n",
              "\n",
              "    [theme=dark] .colab-df-convert:hover {\n",
              "      background-color: #434B5C;\n",
              "      box-shadow: 0px 1px 3px 1px rgba(0, 0, 0, 0.15);\n",
              "      filter: drop-shadow(0px 1px 2px rgba(0, 0, 0, 0.3));\n",
              "      fill: #FFFFFF;\n",
              "    }\n",
              "  </style>\n",
              "\n",
              "      <script>\n",
              "        const buttonEl =\n",
              "          document.querySelector('#df-758c6e4a-cf9e-49e0-8486-1e616e94df9f button.colab-df-convert');\n",
              "        buttonEl.style.display =\n",
              "          google.colab.kernel.accessAllowed ? 'block' : 'none';\n",
              "\n",
              "        async function convertToInteractive(key) {\n",
              "          const element = document.querySelector('#df-758c6e4a-cf9e-49e0-8486-1e616e94df9f');\n",
              "          const dataTable =\n",
              "            await google.colab.kernel.invokeFunction('convertToInteractive',\n",
              "                                                     [key], {});\n",
              "          if (!dataTable) return;\n",
              "\n",
              "          const docLinkHtml = 'Like what you see? Visit the ' +\n",
              "            '<a target=\"_blank\" href=https://colab.research.google.com/notebooks/data_table.ipynb>data table notebook</a>'\n",
              "            + ' to learn more about interactive tables.';\n",
              "          element.innerHTML = '';\n",
              "          dataTable['output_type'] = 'display_data';\n",
              "          await google.colab.output.renderOutput(dataTable, element);\n",
              "          const docLink = document.createElement('div');\n",
              "          docLink.innerHTML = docLinkHtml;\n",
              "          element.appendChild(docLink);\n",
              "        }\n",
              "      </script>\n",
              "    </div>\n",
              "  </div>\n",
              "  "
            ]
          },
          "metadata": {},
          "execution_count": 41
        }
      ]
    },
    {
      "cell_type": "code",
      "source": [
        "def plot_hist_manual(data, bins=30, width=2):\n",
        "    heights, means = np.histogram(data, bins=bins)\n",
        "    plt.bar(means[:-1], heights, width=width);"
      ],
      "metadata": {
        "id": "GU-C-mcsTDyI"
      },
      "execution_count": 42,
      "outputs": []
    },
    {
      "cell_type": "code",
      "source": [
        "d =np.array(bo_df['AverageSales']) "
      ],
      "metadata": {
        "id": "3Wfx6BOCbyDq"
      },
      "execution_count": 43,
      "outputs": []
    },
    {
      "cell_type": "code",
      "source": [
        "plot_hist_manual(d, width=1.5)"
      ],
      "metadata": {
        "colab": {
          "base_uri": "https://localhost:8080/",
          "height": 265
        },
        "id": "OHByrn0dZowc",
        "outputId": "2ccaa647-c075-4111-ea8b-8eed02403d7b"
      },
      "execution_count": 44,
      "outputs": [
        {
          "output_type": "display_data",
          "data": {
            "text/plain": [
              "<Figure size 432x288 with 1 Axes>"
            ],
            "image/png": "[encoded data removed]"
          },
          "metadata": {
            "needs_background": "light"
          }
        }
      ]
    },
    {
      "cell_type": "code",
      "source": [
        "result = normaltest(d)"
      ],
      "metadata": {
        "id": "p1a_TNzcaUbW"
      },
      "execution_count": 45,
      "outputs": []
    },
    {
      "cell_type": "code",
      "source": [
        "lv =np.quantile(d, 0.05)\n",
        "print (round(lv,2)) "
      ],
      "metadata": {
        "colab": {
          "base_uri": "https://localhost:8080/"
        },
        "id": "yPKS3Hzpanqd",
        "outputId": "b33c3aba-3f38-4893-f4eb-bd259a7c0028"
      },
      "execution_count": 46,
      "outputs": [
        {
          "output_type": "stream",
          "name": "stdout",
          "text": [
            "46.23\n"
          ]
        }
      ]
    },
    {
      "cell_type": "code",
      "source": [
        "uv =np.quantile(d, 0.95)\n",
        "print (round (uv,2))"
      ],
      "metadata": {
        "colab": {
          "base_uri": "https://localhost:8080/"
        },
        "id": "0_uf-Vk-aveN",
        "outputId": "31a79a9e-f78a-4d28-c652-8e083c05c900"
      },
      "execution_count": 47,
      "outputs": [
        {
          "output_type": "stream",
          "name": "stdout",
          "text": [
            "48.3\n"
          ]
        }
      ]
    },
    {
      "cell_type": "code",
      "source": [
        "plot_hist_manual(np.array(bo_df['AverageSales']), bins=30, width=0.2)\n",
        "\n",
        "ax = plt.gca()\n",
        "ax.vlines(lv, 0, 80, color='r', label='5%')\n",
        "ax.vlines(uv, 0, 80, color='orange', label='95%')\n",
        "plt.legend();"
      ],
      "metadata": {
        "colab": {
          "base_uri": "https://localhost:8080/",
          "height": 265
        },
        "id": "Dn6dzeFUa2q2",
        "outputId": "516d8aa1-5ecf-40a3-afae-9147ab6f53a3"
      },
      "execution_count": 48,
      "outputs": [
        {
          "output_type": "display_data",
          "data": {
            "text/plain": [
              "<Figure size 432x288 with 1 Axes>"
            ],
            "image/png": "[encoded data removed]"
          },
          "metadata": {
            "needs_background": "light"
          }
        }
      ]
    },
    {
      "cell_type": "markdown",
      "source": [
        "### 6. Compare sales in markets where different promotions were ran. Which promotion strategy showed the best results in terms of average sales?"
      ],
      "metadata": {
        "id": "WdyyivvJTNbZ"
      }
    },
    {
      "cell_type": "code",
      "source": [
        "df.groupby('Promotion')['SalesInThousands'].mean()"
      ],
      "metadata": {
        "colab": {
          "base_uri": "https://localhost:8080/"
        },
        "id": "SnOrvxOOfM0C",
        "outputId": "041c5be9-c223-4a35-ec49-cc64baaca615"
      },
      "execution_count": 49,
      "outputs": [
        {
          "output_type": "execute_result",
          "data": {
            "text/plain": [
              "Promotion\n",
              "1    61.596831\n",
              "2    47.329415\n",
              "3    62.946686\n",
              "Name: SalesInThousands, dtype: float64"
            ]
          },
          "metadata": {},
          "execution_count": 49
        }
      ]
    },
    {
      "cell_type": "code",
      "source": [
        ""
      ],
      "metadata": {
        "id": "qCUVic3CUYwU"
      },
      "execution_count": 49,
      "outputs": []
    },
    {
      "cell_type": "markdown",
      "source": [
        "### 7.Are the differences between strategies 1 and 2 statistically significant? Use two-sided Student T-test with confidence level 5%. "
      ],
      "metadata": {
        "id": "S0-GNjE-0Pe6"
      }
    },
    {
      "cell_type": "code",
      "source": [
        "alpha = 0.05"
      ],
      "metadata": {
        "id": "UqJrG986gzOZ"
      },
      "execution_count": 50,
      "outputs": []
    },
    {
      "cell_type": "code",
      "source": [
        "strat1 = df.loc[df['Promotion'] == 1, 'SalesInThousands']\n",
        "#print (strat1)\n",
        "print (list (strat1))"
      ],
      "metadata": {
        "colab": {
          "base_uri": "https://localhost:8080/"
        },
        "id": "cKLLtoz10Rtt",
        "outputId": "cd3ec3d0-405c-4122-fe7f-b4d94285d1d5"
      },
      "execution_count": 55,
      "outputs": [
        {
          "output_type": "stream",
          "name": "stdout",
          "text": [
            "[44.54, 37.94, 45.49, 34.75, 42.92, 42.16, 51.72, 36.17, 37.41, 38.64, 40.9, 41.11, 35.85, 36.24, 41.73, 37.32, 50.48, 36.88, 35.68, 46.45, 101.22, 98.355, 102.63, 91.395, 88.73, 85.21, 81.55, 94.17, 93.71, 96.01, 93.03, 97.61, 85.11, 88.07, 94.43, 89.44, 91.6, 80.61, 93.86, 83.43, 99.65, 88.64, 86.96, 89.25, 87.08, 89.32, 99.12, 85.85, 93.32, 85.71, 77.36, 91.29, 83.91, 92.04, 84.285, 93.09, 81.015, 95.22, 92.94, 82.94999999999999, 80.685, 100.44, 85.65, 97.68, 93.24, 81.09, 77.58, 89.46000000000001, 49.95, 55.11, 55.28, 54.7, 59.34, 62.63, 49.08, 58.04, 42.16, 36.8, 46.98, 47.35, 40.46, 41.25, 32.05, 47.5, 35.3, 35.86, 49.3, 30.81, 44.98, 41.71, 41.1, 40.97, 41.1, 41.56, 36.39, 39.67, 53.38, 55.31, 56.1, 43.24, 48.18, 43.11, 43.78, 56.9, 53.53, 47.92, 56.18, 46.66, 42.76, 50.52, 56.86, 47.51, 51.82, 45.02, 49.44, 51.32, 52.85, 40.84, 64.45, 44.43, 56.64, 46.06, 55.46, 51.41, 56.99, 45.57, 45.92, 50.52, 54.95, 55.78, 46.49, 56.84, 65.11, 54.38, 57.14, 49.91, 50.54, 58.43, 59.77, 60.44, 49.3, 61.8, 58.0, 55.2, 61.53, 59.17, 63.73, 61.77, 58.19, 62.72, 66.66, 64.66, 66.34, 60.59, 61.95, 67.84, 62.33, 53.68, 62.37, 63.58, 53.51, 49.76, 68.31, 66.1, 49.62, 62.54, 50.11, 61.63, 59.87, 62.99, 57.2, 64.34]\n"
          ]
        }
      ]
    },
    {
      "cell_type": "code",
      "source": [
        "strat2 = df.loc[df['Promotion'] == 2, 'SalesInThousands']\n",
        "#print (strat2)\n",
        "print (list(strat2))"
      ],
      "metadata": {
        "colab": {
          "base_uri": "https://localhost:8080/"
        },
        "id": "BFlCaKv-09cC",
        "outputId": "c2aade10-224b-4ba2-ed8e-19265e89e68e"
      },
      "execution_count": 56,
      "outputs": [
        {
          "output_type": "stream",
          "name": "stdout",
          "text": [
            "[27.81, 34.67, 27.98, 27.72, 39.28, 39.8, 24.77, 30.98, 30.37, 24.82, 37.47, 23.35, 30.08, 28.62, 25.4, 27.26, 34.27, 29.3, 23.93, 35.16, 87.43, 81.79, 88.12, 75.29, 88.64, 81.37, 82.14, 79.64, 73.22, 75.88, 78.01, 80.17, 82.65, 77.39, 80.83, 80.75, 66.22, 82.86, 83.4, 75.61, 79.53, 74.03, 78.53, 76.71, 49.61, 43.69, 54.49, 61.25, 47.89, 52.37, 49.11, 52.88, 46.98, 53.41, 36.17, 55.98, 51.87, 58.01, 47.93, 51.33, 40.4, 50.28, 52.72, 38.3, 51.79, 42.56, 44.64, 45.11, 42.15, 42.59, 49.56, 39.25, 48.18, 48.25, 46.42, 43.77, 45.3, 48.84, 45.08, 44.67, 47.33, 45.42, 44.31, 40.26, 43.27, 48.33, 44.14, 51.5, 46.26, 47.71, 54.09, 46.89, 31.94, 29.64, 33.64, 36.05, 36.7, 41.53, 27.71, 37.2, 32.21, 38.41, 37.9, 44.84, 37.45, 35.46, 31.85, 19.26, 38.65, 17.34, 33.14, 23.44, 32.77, 30.26, 27.55, 27.37, 40.71, 38.26, 41.44, 25.7, 49.39, 40.25, 42.46, 31.62, 38.56, 37.29, 35.6, 33.35, 48.5, 36.8, 48.32, 41.54, 32.61, 57.27, 37.32, 41.22, 39.73, 50.3, 40.16, 41.37, 48.76, 44.14, 58.1, 44.16, 46.02, 51.09, 51.68, 55.91, 53.76, 39.36, 47.2, 53.66, 51.09, 54.82, 44.16, 53.95, 51.26, 51.73, 51.35, 41.85, 45.21, 55.02, 45.35, 47.06, 43.59, 46.03, 47.22, 51.41, 55.39, 49.16, 58.26, 48.12, 49.98, 44.84, 55.12, 47.36, 44.7, 43.44, 52.36, 45.9, 43.61, 46.2, 51.52, 49.71, 50.2, 45.75, 44.29, 49.41]\n"
          ]
        }
      ]
    },
    {
      "cell_type": "code",
      "source": [
        "result  = ttest_ind(strat1, strat2)\n",
        "print (result)"
      ],
      "metadata": {
        "colab": {
          "base_uri": "https://localhost:8080/"
        },
        "id": "n1cD8_Tm4HxG",
        "outputId": "cdf74724-f96e-4842-8420-7590c2832c18"
      },
      "execution_count": 57,
      "outputs": [
        {
          "output_type": "stream",
          "name": "stdout",
          "text": [
            "Ttest_indResult(statistic=7.761907735013977, pvalue=8.85304097461179e-14)\n"
          ]
        }
      ]
    },
    {
      "cell_type": "code",
      "source": [
        "if (result.pvalue > alpha):\n",
        "  print (\"stastically equivalent \")\n",
        "else:\n",
        "  print (\"stastically significant\")\n",
        "  if (result.statistic > 0):\n",
        "    print (\"promotion 1 is better than promotion 2\")\n",
        "  else:\n",
        "    print (\"promotion 2 is better than promotion 1\")\n"
      ],
      "metadata": {
        "colab": {
          "base_uri": "https://localhost:8080/"
        },
        "id": "ppuUVSlag1hy",
        "outputId": "6ee92868-aa48-496a-f727-aa15b9fac6d2"
      },
      "execution_count": 58,
      "outputs": [
        {
          "output_type": "stream",
          "name": "stdout",
          "text": [
            "stastically significant\n",
            "promotion 1 is better than promotion 2\n"
          ]
        }
      ]
    },
    {
      "cell_type": "markdown",
      "source": [
        "### 8. Are the differences between strategies 1 and 3 statistically significant? Use two-sided Student T-test with confidence level 5%. Which strategy should we select?"
      ],
      "metadata": {
        "id": "7Z5SrCiE5clF"
      }
    },
    {
      "cell_type": "code",
      "source": [
        "alpha = 0.05"
      ],
      "metadata": {
        "id": "PbPSeedm9xpT"
      },
      "execution_count": 59,
      "outputs": []
    },
    {
      "cell_type": "code",
      "source": [
        "strat1 = df.loc[df['Promotion'] == 1, 'SalesInThousands']\n",
        "print (list (strat1))"
      ],
      "metadata": {
        "colab": {
          "base_uri": "https://localhost:8080/"
        },
        "id": "N87ZkcJx1B8q",
        "outputId": "bceae44d-2f36-4633-8b78-087ee9b7ada6"
      },
      "execution_count": 60,
      "outputs": [
        {
          "output_type": "stream",
          "name": "stdout",
          "text": [
            "[44.54, 37.94, 45.49, 34.75, 42.92, 42.16, 51.72, 36.17, 37.41, 38.64, 40.9, 41.11, 35.85, 36.24, 41.73, 37.32, 50.48, 36.88, 35.68, 46.45, 101.22, 98.355, 102.63, 91.395, 88.73, 85.21, 81.55, 94.17, 93.71, 96.01, 93.03, 97.61, 85.11, 88.07, 94.43, 89.44, 91.6, 80.61, 93.86, 83.43, 99.65, 88.64, 86.96, 89.25, 87.08, 89.32, 99.12, 85.85, 93.32, 85.71, 77.36, 91.29, 83.91, 92.04, 84.285, 93.09, 81.015, 95.22, 92.94, 82.94999999999999, 80.685, 100.44, 85.65, 97.68, 93.24, 81.09, 77.58, 89.46000000000001, 49.95, 55.11, 55.28, 54.7, 59.34, 62.63, 49.08, 58.04, 42.16, 36.8, 46.98, 47.35, 40.46, 41.25, 32.05, 47.5, 35.3, 35.86, 49.3, 30.81, 44.98, 41.71, 41.1, 40.97, 41.1, 41.56, 36.39, 39.67, 53.38, 55.31, 56.1, 43.24, 48.18, 43.11, 43.78, 56.9, 53.53, 47.92, 56.18, 46.66, 42.76, 50.52, 56.86, 47.51, 51.82, 45.02, 49.44, 51.32, 52.85, 40.84, 64.45, 44.43, 56.64, 46.06, 55.46, 51.41, 56.99, 45.57, 45.92, 50.52, 54.95, 55.78, 46.49, 56.84, 65.11, 54.38, 57.14, 49.91, 50.54, 58.43, 59.77, 60.44, 49.3, 61.8, 58.0, 55.2, 61.53, 59.17, 63.73, 61.77, 58.19, 62.72, 66.66, 64.66, 66.34, 60.59, 61.95, 67.84, 62.33, 53.68, 62.37, 63.58, 53.51, 49.76, 68.31, 66.1, 49.62, 62.54, 50.11, 61.63, 59.87, 62.99, 57.2, 64.34]\n"
          ]
        }
      ]
    },
    {
      "cell_type": "code",
      "source": [
        "strat3 = df.loc[df['Promotion'] == 3, 'SalesInThousands']\n",
        "print (list(strat3))"
      ],
      "metadata": {
        "colab": {
          "base_uri": "https://localhost:8080/"
        },
        "id": "ULsxY5Mr0YYZ",
        "outputId": "c5809fa0-5cac-4d5e-8c91-d66cffa43814"
      },
      "execution_count": 61,
      "outputs": [
        {
          "output_type": "stream",
          "name": "stdout",
          "text": [
            "[40.47599999999999, 42.804, 34.836, 47.1, 39.48, 26.616, 51.57599999999999, 32.016, 40.104, 45.516, 40.62, 48.3, 61.59, 63.64, 54.68, 61.24, 62.93, 58.77, 70.6, 65.06, 59.76, 66.11, 62.16, 64.04, 59.65, 57.04, 59.73, 56.72, 58.55, 62.19, 53.14, 62.27, 94.754, 90.81600000000002, 87.296, 84.88700000000001, 98.67000000000002, 86.27300000000001, 92.455, 89.29800000000002, 91.322, 99.33, 93.69800000000002, 98.747, 90.904, 91.179, 90.343, 97.801, 96.47, 89.27600000000001, 89.738, 103.631, 106.128, 92.543, 101.178, 89.89200000000001, 92.77400000000002, 96.69, 83.73200000000001, 90.992, 104.379, 82.22500000000001, 102.993, 88.902, 100.771, 86.922, 94.721, 91.168, 51.47, 53.47, 46.83, 56.7, 62.676, 62.016, 55.464, 55.236, 54.672, 66.228, 45.408, 60.084, 60.132, 66.708, 65.244, 62.292, 68.844, 66.636, 61.392, 68.472, 60.708, 58.368, 60.66, 58.896, 29.7, 49.764, 42.12, 41.196, 44.604, 36.624, 39.01199999999999, 34.944, 56.97599999999999, 47.292, 51.948, 51.108, 41.352, 48.156, 38.616, 52.47599999999999, 58.812, 55.548, 44.568, 51.384, 56.664, 42.288, 56.664, 51.78, 48.348, 58.02, 51.912, 53.04, 55.368, 49.344, 54.036, 46.62, 50.352, 50.724, 46.212, 52.212, 48.516, 61.38, 51.0, 63.312, 57.156, 62.652, 48.204, 58.032, 64.272, 59.664, 58.524, 56.208000000000006, 59.604, 59.97599999999999, 59.4, 56.82, 60.312, 62.46, 61.368, 55.56, 65.74799999999999, 62.868, 50.58, 59.556, 57.672, 61.308, 53.028, 59.424, 53.59199999999999, 64.536, 52.69199999999999, 62.892, 61.12799999999999, 59.256, 76.776, 55.008, 61.212, 67.392, 54.924, 55.764, 67.08, 71.75999999999999, 73.164, 76.968, 47.97599999999999, 65.496, 63.168, 54.516, 57.07900000000001, 56.287000000000006, 59.763000000000005, 55.055, 59.77400000000001, 66.26400000000001, 62.029, 64.163, 58.85, 61.97400000000001, 57.013000000000005, 55.220000000000006]\n"
          ]
        }
      ]
    },
    {
      "cell_type": "code",
      "source": [
        "result  = ttest_ind(strat1, strat3)\n",
        "print (result)"
      ],
      "metadata": {
        "colab": {
          "base_uri": "https://localhost:8080/"
        },
        "id": "Amq2d2MV5lEg",
        "outputId": "621ca7b6-d938-48a1-9ca9-19333237ec9d"
      },
      "execution_count": 62,
      "outputs": [
        {
          "output_type": "stream",
          "name": "stdout",
          "text": [
            "Ttest_indResult(statistic=-0.6963281649703501, pvalue=0.4866751758880089)\n"
          ]
        }
      ]
    },
    {
      "cell_type": "code",
      "source": [
        "print (round(result.pvalue,2))"
      ],
      "metadata": {
        "colab": {
          "base_uri": "https://localhost:8080/"
        },
        "id": "SkhNKFqL-SaQ",
        "outputId": "498a95b1-636c-4b66-fc9d-6720188d7604"
      },
      "execution_count": 63,
      "outputs": [
        {
          "output_type": "stream",
          "name": "stdout",
          "text": [
            "0.49\n"
          ]
        }
      ]
    },
    {
      "cell_type": "code",
      "source": [
        "if (round(result.pvalue,2) > alpha):\n",
        "  print (\"stastically equivalent \")\n",
        "else:\n",
        "  print (\"stastically significant\")\n",
        "  if (result.statistic > 0):\n",
        "    print (\"promotion 1 is better than promotion 2\")\n",
        "  else:\n",
        "    print (\"promotion 2 is better than promotion 1\")\n"
      ],
      "metadata": {
        "colab": {
          "base_uri": "https://localhost:8080/"
        },
        "id": "J6_MJ3Fg5o8c",
        "outputId": "fc3ada3f-55c7-4d21-e5c9-28a9d0474a23"
      },
      "execution_count": 64,
      "outputs": [
        {
          "output_type": "stream",
          "name": "stdout",
          "text": [
            "stastically equivalent \n"
          ]
        }
      ]
    },
    {
      "cell_type": "markdown",
      "source": [
        "### 9. Compare the sales for strategies 1 and 3 but now for markets of different size separatly. Compare Large markets with strategies 1 and 3. Compare Medium markets with strategies 1 and 3. Compare Small markets with strategies 1 and 3. Are the differences between strategies 1 and 3 stratified by markets of different size statistically significant (5%), which strategy should we select?"
      ],
      "metadata": {
        "id": "pD7I_i0Q6A0A"
      }
    },
    {
      "cell_type": "markdown",
      "source": [
        "##### Large markets"
      ],
      "metadata": {
        "id": "ezNe9WXB8bRj"
      }
    },
    {
      "cell_type": "code",
      "source": [
        "alpha = 0.05"
      ],
      "metadata": {
        "id": "96hlAO3K_ADf"
      },
      "execution_count": 65,
      "outputs": []
    },
    {
      "cell_type": "code",
      "source": [
        "strat1_L = df.loc[(df['Promotion'] == 1) & (df['MarketSize'] == 'Large'), 'SalesInThousands']\n",
        "print (len(strat1_L))"
      ],
      "metadata": {
        "colab": {
          "base_uri": "https://localhost:8080/"
        },
        "id": "wtUG4qXl6B_H",
        "outputId": "f4d549f2-c782-41ee-ccab-d177d150a22a"
      },
      "execution_count": 66,
      "outputs": [
        {
          "output_type": "stream",
          "name": "stdout",
          "text": [
            "56\n"
          ]
        }
      ]
    },
    {
      "cell_type": "code",
      "source": [
        "strat3_L = df.loc[(df['Promotion'] == 3) & (df['MarketSize'] == 'Large'), 'SalesInThousands']\n",
        "print (len(strat3_L))"
      ],
      "metadata": {
        "colab": {
          "base_uri": "https://localhost:8080/"
        },
        "id": "SOUfU8Ug7lXg",
        "outputId": "30500646-27f2-469e-ff25-1942dd8a3047"
      },
      "execution_count": 67,
      "outputs": [
        {
          "output_type": "stream",
          "name": "stdout",
          "text": [
            "48\n"
          ]
        }
      ]
    },
    {
      "cell_type": "code",
      "source": [
        "result  = ttest_ind(strat1_L, strat3_L)\n",
        "print (result)\n"
      ],
      "metadata": {
        "colab": {
          "base_uri": "https://localhost:8080/"
        },
        "id": "ZKJL6WJ57zbx",
        "outputId": "842f332c-c957-451e-f1ec-668834390975"
      },
      "execution_count": 68,
      "outputs": [
        {
          "output_type": "stream",
          "name": "stdout",
          "text": [
            "Ttest_indResult(statistic=-3.1460147617621512, pvalue=0.00216943975023725)\n"
          ]
        }
      ]
    },
    {
      "cell_type": "code",
      "source": [
        "if (result.pvalue> alpha):\n",
        "  print (\"stastically equivalent \")\n",
        "else:\n",
        "  print (\"stastically significant\")\n",
        "  if (result.statistic > 0):\n",
        "    print (\"promotion 1 is better than promotion 3 on large market\")\n",
        "  else:\n",
        "    print (\"promotion 3 is better than promotion 1 on large market\")\n",
        "  if (strat1_L.mean() > strat3_L.mean()):\n",
        "    print (\"promotion 1 is better than promotion 3 on large market\")\n",
        "  else:\n",
        "    print (\"promotion 3 is better than promotion 1 on large market\")\n"
      ],
      "metadata": {
        "colab": {
          "base_uri": "https://localhost:8080/"
        },
        "id": "Wqn5so4D_FxG",
        "outputId": "e6e72703-e745-47ea-b7bb-a9492a95e324"
      },
      "execution_count": 69,
      "outputs": [
        {
          "output_type": "stream",
          "name": "stdout",
          "text": [
            "stastically significant\n",
            "promotion 3 is better than promotion 1 on large market\n",
            "promotion 3 is better than promotion 1 on large market\n"
          ]
        }
      ]
    },
    {
      "cell_type": "markdown",
      "source": [
        "##### Medium markets"
      ],
      "metadata": {
        "id": "bRMYMNjY8iIm"
      }
    },
    {
      "cell_type": "code",
      "source": [
        "strat1_M = df.loc[(df['Promotion'] == 1) & (df['MarketSize'] == 'Medium'), 'SalesInThousands']\n",
        "print (len(strat1_M))"
      ],
      "metadata": {
        "colab": {
          "base_uri": "https://localhost:8080/"
        },
        "id": "jbZ4iumT7z99",
        "outputId": "afbd61e7-4514-4b2d-e9c1-a73cffa3e4fa"
      },
      "execution_count": 70,
      "outputs": [
        {
          "output_type": "stream",
          "name": "stdout",
          "text": [
            "96\n"
          ]
        }
      ]
    },
    {
      "cell_type": "code",
      "source": [
        "strat3_M = df.loc[(df['Promotion'] == 3) & (df['MarketSize'] == 'Medium'), 'SalesInThousands']\n",
        "print (len(strat3_M))"
      ],
      "metadata": {
        "colab": {
          "base_uri": "https://localhost:8080/"
        },
        "id": "Q-8o59Z38HP3",
        "outputId": "d4474ffc-c286-4894-ebbc-afa8b97f1035"
      },
      "execution_count": 71,
      "outputs": [
        {
          "output_type": "stream",
          "name": "stdout",
          "text": [
            "116\n"
          ]
        }
      ]
    },
    {
      "cell_type": "code",
      "source": [
        "result  = ttest_ind(strat1_M, strat3_M)\n",
        "print (result)"
      ],
      "metadata": {
        "colab": {
          "base_uri": "https://localhost:8080/"
        },
        "id": "Eugf76L78KIb",
        "outputId": "750db61d-614a-46f6-93e1-9d241f211b85"
      },
      "execution_count": 72,
      "outputs": [
        {
          "output_type": "stream",
          "name": "stdout",
          "text": [
            "Ttest_indResult(statistic=-5.546126944655512, pvalue=8.726919451850998e-08)\n"
          ]
        }
      ]
    },
    {
      "cell_type": "code",
      "source": [
        "if (result.pvalue> alpha):\n",
        "  print (\"stastically equivalent \")\n",
        "else:\n",
        "  print (\"stastically significant\")\n",
        "  if (result.statistic > 0):\n",
        "    print (\"promotion 1 is better than promotion 3 on Medium market\")\n",
        "  else:\n",
        "    print (\"promotion 3 is better than promotion 1 on Medium market\")\n",
        "  if (strat1_M.mean() > strat3_M.mean()):\n",
        "    print (\"promotion 1 is better than promotion 3 on Medium market\")\n",
        "  else:\n",
        "    print (\"promotion 3 is better than promotion 1 on Medium market\")\n"
      ],
      "metadata": {
        "colab": {
          "base_uri": "https://localhost:8080/"
        },
        "id": "_Tglg16W_rWY",
        "outputId": "e683f800-4403-4139-e53c-66f824a6b5fc"
      },
      "execution_count": 73,
      "outputs": [
        {
          "output_type": "stream",
          "name": "stdout",
          "text": [
            "stastically significant\n",
            "promotion 3 is better than promotion 1 on Medium market\n",
            "promotion 3 is better than promotion 1 on Medium market\n"
          ]
        }
      ]
    },
    {
      "cell_type": "markdown",
      "source": [
        "##### Small markets"
      ],
      "metadata": {
        "id": "kpC75_Ll8nBm"
      }
    },
    {
      "cell_type": "code",
      "source": [
        "strat1_s = df.loc[(df['Promotion'] == 1) & (df['MarketSize'] == 'Small'), 'SalesInThousands']\n",
        "print (len(strat1_s))"
      ],
      "metadata": {
        "colab": {
          "base_uri": "https://localhost:8080/"
        },
        "id": "-Fd3p7FB8Qdt",
        "outputId": "6e6bc7d8-2a9f-4150-8b75-d6daa337411c"
      },
      "execution_count": 74,
      "outputs": [
        {
          "output_type": "stream",
          "name": "stdout",
          "text": [
            "20\n"
          ]
        }
      ]
    },
    {
      "cell_type": "code",
      "source": [
        "strat3_s = df.loc[(df['Promotion'] == 3) & (df['MarketSize'] == 'Small'), 'SalesInThousands']\n",
        "print (len(strat3_s))"
      ],
      "metadata": {
        "colab": {
          "base_uri": "https://localhost:8080/"
        },
        "id": "MePxqJAV8tz0",
        "outputId": "743cb8b0-1653-412d-dcbb-a2833c4988cf"
      },
      "execution_count": 75,
      "outputs": [
        {
          "output_type": "stream",
          "name": "stdout",
          "text": [
            "24\n"
          ]
        }
      ]
    },
    {
      "cell_type": "code",
      "source": [
        "result  = ttest_ind(strat1_s, strat3_s)\n",
        "print (result)"
      ],
      "metadata": {
        "colab": {
          "base_uri": "https://localhost:8080/"
        },
        "id": "_3nzJvOr8x4H",
        "outputId": "825ad8e3-24f8-46c2-fce6-667a4a97b1e7"
      },
      "execution_count": 76,
      "outputs": [
        {
          "output_type": "stream",
          "name": "stdout",
          "text": [
            "Ttest_indResult(statistic=15.729103026221384, pvalue=3.286527960169143e-19)\n"
          ]
        }
      ]
    },
    {
      "cell_type": "code",
      "source": [
        "if (result.pvalue> alpha):\n",
        "  print (\"stastically equivalent \")\n",
        "else:\n",
        "  print (\"stastically significant\")\n",
        "  if (result.statistic > 0):\n",
        "    print (\"promotion 1 is better than promotion 3 on Small market\")\n",
        "  else:\n",
        "    print (\"promotion 3 is better than promotion 1 on Small market\")\n",
        "  if (strat1_s.mean() > strat3_s.mean()):\n",
        "    print (\"promotion 1 is better than promotion 3 on Small market\")\n",
        "  else:\n",
        "    print (\"promotion 3 is better than promotion 1 on Small market\")"
      ],
      "metadata": {
        "colab": {
          "base_uri": "https://localhost:8080/"
        },
        "id": "h_K1WAO-80xY",
        "outputId": "b3579667-6efa-4c22-9306-d7392afceaeb"
      },
      "execution_count": 77,
      "outputs": [
        {
          "output_type": "stream",
          "name": "stdout",
          "text": [
            "stastically significant\n",
            "promotion 1 is better than promotion 3 on Small market\n",
            "promotion 1 is better than promotion 3 on Small market\n"
          ]
        }
      ]
    },
    {
      "cell_type": "markdown",
      "source": [
        "### 10. If instead of running promotions for 4 weeks we have only ran it for 1 week, does your answer to the previous question change? If we now look for confidence level 10%?"
      ],
      "metadata": {
        "id": "w_RqUxYp89Pq"
      }
    },
    {
      "cell_type": "markdown",
      "source": [
        "Note : run the following code for alpha = 0.1 first then for alpha = 0.05 to compare "
      ],
      "metadata": {
        "id": "mz-Vx5-AkvjB"
      }
    },
    {
      "cell_type": "code",
      "source": [
        "alpha = 0.1"
      ],
      "metadata": {
        "id": "nrVYxqUQAh29"
      },
      "execution_count": 78,
      "outputs": []
    },
    {
      "cell_type": "code",
      "source": [
        "alpha = 0.05 "
      ],
      "metadata": {
        "id": "YCSXFOYGBql1"
      },
      "execution_count": 91,
      "outputs": []
    },
    {
      "cell_type": "markdown",
      "source": [
        "##### large markets"
      ],
      "metadata": {
        "id": "W5pi8d_C9Ppe"
      }
    },
    {
      "cell_type": "code",
      "source": [
        "strat1_L_w1 = df.loc[(df['Promotion'] == 1) & (df['MarketSize'] == 'Large') & (df['week']== 1), 'SalesInThousands']\n",
        "print (len(strat1_L_w1))"
      ],
      "metadata": {
        "colab": {
          "base_uri": "https://localhost:8080/"
        },
        "id": "wmeACM4B8-Sd",
        "outputId": "f61f686c-d5d1-4bc4-93ae-bf89a8e449b4"
      },
      "execution_count": 92,
      "outputs": [
        {
          "output_type": "stream",
          "name": "stdout",
          "text": [
            "14\n"
          ]
        }
      ]
    },
    {
      "cell_type": "code",
      "source": [
        "strat3_L_w1 = df.loc[(df['Promotion'] == 3) & (df['MarketSize'] == 'Large') & (df['week']== 1), 'SalesInThousands']\n",
        "print (len(strat3_L_w1))"
      ],
      "metadata": {
        "colab": {
          "base_uri": "https://localhost:8080/"
        },
        "id": "Y48kvRCv9ZXH",
        "outputId": "2a6bffee-50d4-4220-cb0e-77d4e0f025ff"
      },
      "execution_count": 93,
      "outputs": [
        {
          "output_type": "stream",
          "name": "stdout",
          "text": [
            "12\n"
          ]
        }
      ]
    },
    {
      "cell_type": "code",
      "source": [
        "result  = ttest_ind(strat1_L_w1, strat3_L_w1)\n",
        "print (result)"
      ],
      "metadata": {
        "colab": {
          "base_uri": "https://localhost:8080/"
        },
        "id": "zXJqKWJG9hd_",
        "outputId": "d6593930-83d0-45f4-e08d-0b399fd8a340"
      },
      "execution_count": 94,
      "outputs": [
        {
          "output_type": "stream",
          "name": "stdout",
          "text": [
            "Ttest_indResult(statistic=-1.7931023723764705, pvalue=0.08556982681378379)\n"
          ]
        }
      ]
    },
    {
      "cell_type": "code",
      "source": [
        "if (result.pvalue> alpha):\n",
        "  print (\"stastically equivalent \")\n",
        "else:\n",
        "  print (\"stastically significant\")\n",
        "  if (result.statistic > 0):\n",
        "    print (\"promotion 1 is better than promotion 3 on Large market\")\n",
        "  else:\n",
        "    print (\"promotion 3 is better than promotion 1 on Large market\")\n",
        "  if (strat1_L_w1.mean() > strat3_L_w1.mean()):\n",
        "    print (\"promotion 1 is better than promotion 3 on Large market\")\n",
        "  else:\n",
        "    print (\"promotion 3 is better than promotion 1 on Large market\")"
      ],
      "metadata": {
        "colab": {
          "base_uri": "https://localhost:8080/"
        },
        "id": "6sTn_m2V9ko3",
        "outputId": "fccd9a93-cc4a-4e3e-d9ab-b76ff90ec124"
      },
      "execution_count": 95,
      "outputs": [
        {
          "output_type": "stream",
          "name": "stdout",
          "text": [
            "stastically equivalent \n"
          ]
        }
      ]
    },
    {
      "cell_type": "markdown",
      "source": [
        "##### Medium markets"
      ],
      "metadata": {
        "id": "WA7RZFsE9lpr"
      }
    },
    {
      "cell_type": "code",
      "source": [
        "strat1_M_w1 = df.loc[(df['Promotion'] == 1) & (df['MarketSize'] == 'Medium') & (df['week']== 1), 'SalesInThousands']\n",
        "print (len(strat1_M_w1))"
      ],
      "metadata": {
        "colab": {
          "base_uri": "https://localhost:8080/"
        },
        "id": "I2CHCxp49qC0",
        "outputId": "bcfc540f-f924-406b-9780-34ac3b2b0c45"
      },
      "execution_count": 96,
      "outputs": [
        {
          "output_type": "stream",
          "name": "stdout",
          "text": [
            "24\n"
          ]
        }
      ]
    },
    {
      "cell_type": "code",
      "source": [
        "strat3_M_w1 = df.loc[(df['Promotion'] == 3) & (df['MarketSize'] == 'Medium') & (df['week']== 1), 'SalesInThousands']\n",
        "print (len(strat3_M_w1))"
      ],
      "metadata": {
        "colab": {
          "base_uri": "https://localhost:8080/"
        },
        "id": "ZuR4ACyS9xK9",
        "outputId": "653819c9-4890-4277-85e0-84efaa72e541"
      },
      "execution_count": 97,
      "outputs": [
        {
          "output_type": "stream",
          "name": "stdout",
          "text": [
            "29\n"
          ]
        }
      ]
    },
    {
      "cell_type": "code",
      "source": [
        "result  = ttest_ind(strat1_M_w1, strat3_M_w1)\n",
        "print (result)"
      ],
      "metadata": {
        "colab": {
          "base_uri": "https://localhost:8080/"
        },
        "id": "J1SIFR1m93PE",
        "outputId": "920a83d0-8e4c-407e-fa73-991fcbc3078c"
      },
      "execution_count": 98,
      "outputs": [
        {
          "output_type": "stream",
          "name": "stdout",
          "text": [
            "Ttest_indResult(statistic=-2.434484067162056, pvalue=0.01845222033396582)\n"
          ]
        }
      ]
    },
    {
      "cell_type": "code",
      "source": [
        "if (result.pvalue> alpha):\n",
        "  print (\"stastically equivalent \")\n",
        "else:\n",
        "  print (\"stastically significant\")\n",
        "  if (result.statistic > 0):\n",
        "    print (\"promotion 1 is better than promotion 3 on Medium market\")\n",
        "  else:\n",
        "    print (\"promotion 3 is better than promotion 1 on Medium market\")\n",
        "  if (strat3_M_w1.mean() > strat3_M_w1.mean()):\n",
        "    print (\"promotion 1 is better than promotion 3 on Medium market\")\n",
        "  else:\n",
        "    print (\"promotion 3 is better than promotion 1 on Medium market\")"
      ],
      "metadata": {
        "colab": {
          "base_uri": "https://localhost:8080/"
        },
        "id": "e2l-wjq3BEET",
        "outputId": "7f623a7d-647f-4c5d-9c5b-f83b32d99d94"
      },
      "execution_count": 99,
      "outputs": [
        {
          "output_type": "stream",
          "name": "stdout",
          "text": [
            "stastically significant\n",
            "promotion 3 is better than promotion 1 on Medium market\n",
            "promotion 3 is better than promotion 1 on Medium market\n"
          ]
        }
      ]
    },
    {
      "cell_type": "markdown",
      "source": [
        "##### Small Markets"
      ],
      "metadata": {
        "id": "h1FGdqXb97kp"
      }
    },
    {
      "cell_type": "code",
      "source": [
        "strat1_S_w1 = df.loc[(df['Promotion'] == 1) & (df['MarketSize'] == 'Small') & (df['week']== 1), 'SalesInThousands']\n",
        "print (len(strat1_S_w1))"
      ],
      "metadata": {
        "colab": {
          "base_uri": "https://localhost:8080/"
        },
        "id": "EDtJISlj96TQ",
        "outputId": "39c8d0f4-cea3-4e9a-fa1a-7bb106efa1d5"
      },
      "execution_count": 100,
      "outputs": [
        {
          "output_type": "stream",
          "name": "stdout",
          "text": [
            "5\n"
          ]
        }
      ]
    },
    {
      "cell_type": "code",
      "source": [
        "strat3_S_w1 = df.loc[(df['Promotion'] == 3) & (df['MarketSize'] == 'Small') & (df['week']== 1), 'SalesInThousands']\n",
        "print (len(strat3_S_w1))"
      ],
      "metadata": {
        "colab": {
          "base_uri": "https://localhost:8080/"
        },
        "id": "bt64dCCH-OE2",
        "outputId": "04564097-f892-4282-a224-0016e127df1f"
      },
      "execution_count": 101,
      "outputs": [
        {
          "output_type": "stream",
          "name": "stdout",
          "text": [
            "6\n"
          ]
        }
      ]
    },
    {
      "cell_type": "code",
      "source": [
        "result  = ttest_ind(strat1_S_w1, strat3_S_w1)\n",
        "print (result)"
      ],
      "metadata": {
        "colab": {
          "base_uri": "https://localhost:8080/"
        },
        "id": "a75d--UA-Q6T",
        "outputId": "d8423ab4-4764-4029-e0a7-bffbd6bd58f1"
      },
      "execution_count": 102,
      "outputs": [
        {
          "output_type": "stream",
          "name": "stdout",
          "text": [
            "Ttest_indResult(statistic=7.177589277766924, pvalue=5.208042684076091e-05)\n"
          ]
        }
      ]
    },
    {
      "cell_type": "code",
      "source": [
        "if (result.pvalue> alpha):\n",
        "  print (\"stastically equivalent \")\n",
        "else:\n",
        "  print (\"stastically significant\")\n",
        "  if (result.statistic > 0):\n",
        "    print (\"promotion 1 is better than promotion 3 on Small market\")\n",
        "  else:\n",
        "    print (\"promotion 3 is better than promotion 1 on Small market\")\n",
        "  if (strat1_S_w1.mean() > strat3_S_w1.mean()):\n",
        "    print (\"promotion 1 is better than promotion 3 on Small market\")\n",
        "  else:\n",
        "    print (\"promotion 3 is better than promotion 1 on Small market\")"
      ],
      "metadata": {
        "colab": {
          "base_uri": "https://localhost:8080/"
        },
        "id": "3BEJqMur-UEA",
        "outputId": "bbd712d8-4dd1-4ba3-b919-b26b4e2c3fbe"
      },
      "execution_count": 103,
      "outputs": [
        {
          "output_type": "stream",
          "name": "stdout",
          "text": [
            "stastically significant\n",
            "promotion 1 is better than promotion 3 on Small market\n",
            "promotion 1 is better than promotion 3 on Small market\n"
          ]
        }
      ]
    },
    {
      "cell_type": "code",
      "source": [
        ""
      ],
      "metadata": {
        "id": "k4OV46fjBdlW"
      },
      "execution_count": 350,
      "outputs": []
    }
  ]
}