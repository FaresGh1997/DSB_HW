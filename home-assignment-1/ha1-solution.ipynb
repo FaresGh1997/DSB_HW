{
 "cells": [
  {
   "cell_type": "code",
   "execution_count": 1,
   "id": "f43dd975",
   "metadata": {},
   "outputs": [],
   "source": [
    "# !kaggle competitions download -c spaceship-titanic"
   ]
  },
  {
   "cell_type": "code",
   "execution_count": 2,
   "id": "f7d643d9",
   "metadata": {},
   "outputs": [],
   "source": [
    "# !unzip spaceship-titanic.zip"
   ]
  },
  {
   "cell_type": "code",
   "execution_count": 3,
   "id": "6a565fb3",
   "metadata": {},
   "outputs": [],
   "source": [
    "import pandas as pd"
   ]
  },
  {
   "cell_type": "markdown",
   "id": "b2a0a8e4",
   "metadata": {},
   "source": [
    "# 1. Load the training data, how many numerical features do you have?"
   ]
  },
  {
   "cell_type": "code",
   "execution_count": 4,
   "id": "68962300",
   "metadata": {},
   "outputs": [],
   "source": [
    "df_train = pd.read_csv('train.csv')"
   ]
  },
  {
   "cell_type": "code",
   "execution_count": 5,
   "id": "d6e1c262",
   "metadata": {},
   "outputs": [
    {
     "data": {
      "text/plain": [
       "PassengerId      object\n",
       "HomePlanet       object\n",
       "CryoSleep        object\n",
       "Cabin            object\n",
       "Destination      object\n",
       "Age             float64\n",
       "VIP              object\n",
       "RoomService     float64\n",
       "FoodCourt       float64\n",
       "ShoppingMall    float64\n",
       "Spa             float64\n",
       "VRDeck          float64\n",
       "Name             object\n",
       "Transported        bool\n",
       "dtype: object"
      ]
     },
     "execution_count": 5,
     "metadata": {},
     "output_type": "execute_result"
    }
   ],
   "source": [
    "df_train.dtypes\n",
    "\n",
    "# 6 float64"
   ]
  },
  {
   "cell_type": "markdown",
   "id": "c8f9dcc3",
   "metadata": {},
   "source": [
    "# 2. How many observations do you have in a training set?"
   ]
  },
  {
   "cell_type": "code",
   "execution_count": 6,
   "id": "7af7de89",
   "metadata": {},
   "outputs": [
    {
     "data": {
      "text/plain": [
       "8693"
      ]
     },
     "execution_count": 6,
     "metadata": {},
     "output_type": "execute_result"
    }
   ],
   "source": [
    "df_train.shape[0]\n",
    "\n",
    "# 8693 training samples"
   ]
  },
  {
   "cell_type": "markdown",
   "id": "020a88f3",
   "metadata": {},
   "source": [
    "# 3. Select Age groups with a prevalent number of Transported passengers"
   ]
  },
  {
   "cell_type": "code",
   "execution_count": 7,
   "id": "ff8f64fd",
   "metadata": {},
   "outputs": [],
   "source": [
    "import numpy as np"
   ]
  },
  {
   "cell_type": "code",
   "execution_count": 8,
   "id": "c8fc4e68",
   "metadata": {},
   "outputs": [],
   "source": [
    "def bin_age(x):\n",
    "    if x < 20:\n",
    "        return '0-20'\n",
    "    elif x < 40:\n",
    "        return '20-40'\n",
    "    elif x < 60:\n",
    "        return '40-60'\n",
    "    else:\n",
    "        return '60+'\n",
    "\n",
    "df_train['Age_cat'] = df_train.Age.apply(bin_age)\n",
    "# np.histogram(df_train.Age, bins=[0, 20, 40, 60, 200])"
   ]
  },
  {
   "cell_type": "code",
   "execution_count": 9,
   "id": "ed6a74f7",
   "metadata": {},
   "outputs": [
    {
     "data": {
      "text/plain": [
       "Age_cat  Transported\n",
       "0-20     True           1271\n",
       "         False           887\n",
       "20-40    False          2405\n",
       "         True           2092\n",
       "40-60    True            806\n",
       "         False           799\n",
       "60+      False           224\n",
       "         True            209\n",
       "Name: Transported, dtype: int64"
      ]
     },
     "execution_count": 9,
     "metadata": {},
     "output_type": "execute_result"
    }
   ],
   "source": [
    "df_train.groupby('Age_cat')['Transported'].value_counts()\n",
    "\n",
    "# 0-20, 40-60"
   ]
  },
  {
   "cell_type": "markdown",
   "id": "3425a46e",
   "metadata": {},
   "source": [
    "# 4. Which HomePlanet has the highest percentage of Transported passengers?\n",
    "\n",
    "Recall that this is not the same question as \"From which planet most of the Transported passengers had come?\"\n",
    "\n"
   ]
  },
  {
   "cell_type": "code",
   "execution_count": 10,
   "id": "f8cf5c66",
   "metadata": {},
   "outputs": [
    {
     "data": {
      "text/plain": [
       "HomePlanet\n",
       "Earth     0.423946\n",
       "Europa    0.658846\n",
       "Mars      0.523024\n",
       "Name: Transported, dtype: float64"
      ]
     },
     "execution_count": 10,
     "metadata": {},
     "output_type": "execute_result"
    }
   ],
   "source": [
    "df_train.groupby('HomePlanet')['Transported'].mean()\n",
    "\n",
    "# Europe has 66% Transported passengers"
   ]
  },
  {
   "cell_type": "markdown",
   "id": "55cead75",
   "metadata": {},
   "source": [
    "# 5. Does CryoSleep increase the chances of being Transported?"
   ]
  },
  {
   "cell_type": "code",
   "execution_count": 11,
   "id": "9cd24353",
   "metadata": {},
   "outputs": [
    {
     "data": {
      "text/plain": [
       "CryoSleep\n",
       "False    0.328921\n",
       "True     0.817583\n",
       "Name: Transported, dtype: float64"
      ]
     },
     "execution_count": 11,
     "metadata": {},
     "output_type": "execute_result"
    }
   ],
   "source": [
    "df_train.groupby('CryoSleep')['Transported'].mean()\n",
    "\n",
    "# Yes"
   ]
  },
  {
   "cell_type": "markdown",
   "id": "57ad000f",
   "metadata": {},
   "source": [
    "# 6. What is one-hot-encoding?"
   ]
  },
  {
   "cell_type": "code",
   "execution_count": 12,
   "id": "ef9da10e",
   "metadata": {},
   "outputs": [
    {
     "data": {
      "text/html": [
       "<div>\n",
       "<style scoped>\n",
       "    .dataframe tbody tr th:only-of-type {\n",
       "        vertical-align: middle;\n",
       "    }\n",
       "\n",
       "    .dataframe tbody tr th {\n",
       "        vertical-align: top;\n",
       "    }\n",
       "\n",
       "    .dataframe thead th {\n",
       "        text-align: right;\n",
       "    }\n",
       "</style>\n",
       "<table border=\"1\" class=\"dataframe\">\n",
       "  <thead>\n",
       "    <tr style=\"text-align: right;\">\n",
       "      <th></th>\n",
       "      <th>Earth</th>\n",
       "      <th>Europa</th>\n",
       "      <th>Mars</th>\n",
       "    </tr>\n",
       "  </thead>\n",
       "  <tbody>\n",
       "    <tr>\n",
       "      <th>0</th>\n",
       "      <td>0</td>\n",
       "      <td>1</td>\n",
       "      <td>0</td>\n",
       "    </tr>\n",
       "    <tr>\n",
       "      <th>1</th>\n",
       "      <td>1</td>\n",
       "      <td>0</td>\n",
       "      <td>0</td>\n",
       "    </tr>\n",
       "    <tr>\n",
       "      <th>2</th>\n",
       "      <td>0</td>\n",
       "      <td>1</td>\n",
       "      <td>0</td>\n",
       "    </tr>\n",
       "    <tr>\n",
       "      <th>3</th>\n",
       "      <td>0</td>\n",
       "      <td>1</td>\n",
       "      <td>0</td>\n",
       "    </tr>\n",
       "    <tr>\n",
       "      <th>4</th>\n",
       "      <td>1</td>\n",
       "      <td>0</td>\n",
       "      <td>0</td>\n",
       "    </tr>\n",
       "    <tr>\n",
       "      <th>...</th>\n",
       "      <td>...</td>\n",
       "      <td>...</td>\n",
       "      <td>...</td>\n",
       "    </tr>\n",
       "    <tr>\n",
       "      <th>8688</th>\n",
       "      <td>0</td>\n",
       "      <td>1</td>\n",
       "      <td>0</td>\n",
       "    </tr>\n",
       "    <tr>\n",
       "      <th>8689</th>\n",
       "      <td>1</td>\n",
       "      <td>0</td>\n",
       "      <td>0</td>\n",
       "    </tr>\n",
       "    <tr>\n",
       "      <th>8690</th>\n",
       "      <td>1</td>\n",
       "      <td>0</td>\n",
       "      <td>0</td>\n",
       "    </tr>\n",
       "    <tr>\n",
       "      <th>8691</th>\n",
       "      <td>0</td>\n",
       "      <td>1</td>\n",
       "      <td>0</td>\n",
       "    </tr>\n",
       "    <tr>\n",
       "      <th>8692</th>\n",
       "      <td>0</td>\n",
       "      <td>1</td>\n",
       "      <td>0</td>\n",
       "    </tr>\n",
       "  </tbody>\n",
       "</table>\n",
       "<p>8693 rows × 3 columns</p>\n",
       "</div>"
      ],
      "text/plain": [
       "      Earth  Europa  Mars\n",
       "0         0       1     0\n",
       "1         1       0     0\n",
       "2         0       1     0\n",
       "3         0       1     0\n",
       "4         1       0     0\n",
       "...     ...     ...   ...\n",
       "8688      0       1     0\n",
       "8689      1       0     0\n",
       "8690      1       0     0\n",
       "8691      0       1     0\n",
       "8692      0       1     0\n",
       "\n",
       "[8693 rows x 3 columns]"
      ]
     },
     "execution_count": 12,
     "metadata": {},
     "output_type": "execute_result"
    }
   ],
   "source": [
    "pd.get_dummies(df_train.HomePlanet)\n",
    "\n",
    "# Replace feature with k binary features."
   ]
  },
  {
   "cell_type": "markdown",
   "id": "66b344b4",
   "metadata": {},
   "source": [
    "# 7. Construct a simple pipeline.\n",
    "\n",
    "Impute missing values (for numerical features use 0, except for Age, for Age use mean imputation; for categorical features impute with the most frequent value), Standardize numerical features (zero mean and unit variance), Use KNN with 10 neighbors. \n",
    "Use 3-fold cross-validation. What is your average classification accuracy?"
   ]
  },
  {
   "cell_type": "code",
   "execution_count": 13,
   "id": "ac1cb13f",
   "metadata": {},
   "outputs": [],
   "source": [
    "X_train = df_train.drop(['Name', 'Cabin', 'Age_cat', 'PassengerId', 'Transported'], axis=1)\n",
    "y_train = df_train['Transported']\n",
    "\n",
    "categorical_features = ['HomePlanet', 'CryoSleep', 'Destination', 'VIP']\n",
    "numerical_features = ['Age', 'RoomService', 'FoodCourt', 'ShoppingMall', 'Spa', 'VRDeck']"
   ]
  },
  {
   "cell_type": "code",
   "execution_count": 14,
   "id": "cfdeb371",
   "metadata": {},
   "outputs": [],
   "source": [
    "# Fill NA in categorical features\n",
    "\n",
    "for col in categorical_features:\n",
    "    fill_val = X_train[col].mode().values[0]\n",
    "    X_train[col].fillna(str(fill_val), inplace=True)\n",
    "    X_train[col] = X_train[col].astype(str)\n",
    "\n",
    "# to do it completely right one needs to identify the most frequent element inside cross-validation,\n",
    "# but I would accept this as a correct answer"
   ]
  },
  {
   "cell_type": "code",
   "execution_count": 15,
   "id": "659b44d5",
   "metadata": {},
   "outputs": [],
   "source": [
    "# Fill NA in numerical features\n",
    "\n",
    "X_train['Age'] = X_train['Age'].fillna(X_train['Age'].mean())\n",
    "X_train[numerical_features] = X_train[numerical_features].fillna(0)\n",
    "\n",
    "# to do it completely right one needs to compute mean Age inside cross-validation,\n",
    "# but I would accept this as a correct answer"
   ]
  },
  {
   "cell_type": "code",
   "execution_count": 16,
   "id": "5e5fd51c",
   "metadata": {},
   "outputs": [
    {
     "name": "stderr",
     "output_type": "stream",
     "text": [
      "/home/anvar/anaconda3/lib/python3.8/site-packages/pandas/core/frame.py:4462: SettingWithCopyWarning: \n",
      "A value is trying to be set on a copy of a slice from a DataFrame\n",
      "\n",
      "See the caveats in the documentation: https://pandas.pydata.org/pandas-docs/stable/user_guide/indexing.html#returning-a-view-versus-a-copy\n",
      "  return super().fillna(\n"
     ]
    }
   ],
   "source": [
    "X_train[numerical_features].fillna(0, inplace=True)"
   ]
  },
  {
   "cell_type": "code",
   "execution_count": 17,
   "id": "62be211a",
   "metadata": {},
   "outputs": [],
   "source": [
    "# Standardize numerical features\n",
    "\n",
    "mean = X_train[numerical_features].mean(axis=0)\n",
    "std = X_train[numerical_features].std(axis=0)\n",
    "X_train[numerical_features] = (X_train[numerical_features] - mean) / std\n",
    "\n",
    "# to do it completely right one needs to compute statistics (mean, std) inside cross-validation,\n",
    "# but I would accept this as a correct answer"
   ]
  },
  {
   "cell_type": "code",
   "execution_count": 18,
   "id": "8c7cb53a",
   "metadata": {},
   "outputs": [],
   "source": [
    "# One-hot encode categorical features\n",
    "\n",
    "dummy_cols = pd.get_dummies(X_train[categorical_features])\n",
    "X_train.drop(categorical_features, axis=1, inplace=True)\n",
    "\n",
    "X_train = pd.merge(X_train, dummy_cols, right_index=True, left_index=True)"
   ]
  },
  {
   "cell_type": "code",
   "execution_count": 19,
   "id": "26b2a3ba",
   "metadata": {},
   "outputs": [
    {
     "data": {
      "text/html": [
       "<div>\n",
       "<style scoped>\n",
       "    .dataframe tbody tr th:only-of-type {\n",
       "        vertical-align: middle;\n",
       "    }\n",
       "\n",
       "    .dataframe tbody tr th {\n",
       "        vertical-align: top;\n",
       "    }\n",
       "\n",
       "    .dataframe thead th {\n",
       "        text-align: right;\n",
       "    }\n",
       "</style>\n",
       "<table border=\"1\" class=\"dataframe\">\n",
       "  <thead>\n",
       "    <tr style=\"text-align: right;\">\n",
       "      <th></th>\n",
       "      <th>Age</th>\n",
       "      <th>RoomService</th>\n",
       "      <th>FoodCourt</th>\n",
       "      <th>ShoppingMall</th>\n",
       "      <th>Spa</th>\n",
       "      <th>VRDeck</th>\n",
       "      <th>HomePlanet_Earth</th>\n",
       "      <th>HomePlanet_Europa</th>\n",
       "      <th>HomePlanet_Mars</th>\n",
       "      <th>CryoSleep_False</th>\n",
       "      <th>CryoSleep_True</th>\n",
       "      <th>Destination_55 Cancri e</th>\n",
       "      <th>Destination_PSO J318.5-22</th>\n",
       "      <th>Destination_TRAPPIST-1e</th>\n",
       "      <th>VIP_False</th>\n",
       "      <th>VIP_True</th>\n",
       "    </tr>\n",
       "  </thead>\n",
       "  <tbody>\n",
       "    <tr>\n",
       "      <th>0</th>\n",
       "      <td>0.709396</td>\n",
       "      <td>-0.333085</td>\n",
       "      <td>-0.281011</td>\n",
       "      <td>-0.283562</td>\n",
       "      <td>-0.270610</td>\n",
       "      <td>-0.262988</td>\n",
       "      <td>0</td>\n",
       "      <td>1</td>\n",
       "      <td>0</td>\n",
       "      <td>1</td>\n",
       "      <td>0</td>\n",
       "      <td>0</td>\n",
       "      <td>0</td>\n",
       "      <td>1</td>\n",
       "      <td>1</td>\n",
       "      <td>0</td>\n",
       "    </tr>\n",
       "    <tr>\n",
       "      <th>1</th>\n",
       "      <td>-0.336698</td>\n",
       "      <td>-0.168064</td>\n",
       "      <td>-0.275371</td>\n",
       "      <td>-0.241757</td>\n",
       "      <td>0.217146</td>\n",
       "      <td>-0.224192</td>\n",
       "      <td>1</td>\n",
       "      <td>0</td>\n",
       "      <td>0</td>\n",
       "      <td>1</td>\n",
       "      <td>0</td>\n",
       "      <td>0</td>\n",
       "      <td>0</td>\n",
       "      <td>1</td>\n",
       "      <td>1</td>\n",
       "      <td>0</td>\n",
       "    </tr>\n",
       "    <tr>\n",
       "      <th>2</th>\n",
       "      <td>2.034449</td>\n",
       "      <td>-0.267985</td>\n",
       "      <td>1.959885</td>\n",
       "      <td>-0.283562</td>\n",
       "      <td>5.695295</td>\n",
       "      <td>-0.219783</td>\n",
       "      <td>0</td>\n",
       "      <td>1</td>\n",
       "      <td>0</td>\n",
       "      <td>1</td>\n",
       "      <td>0</td>\n",
       "      <td>0</td>\n",
       "      <td>0</td>\n",
       "      <td>1</td>\n",
       "      <td>0</td>\n",
       "      <td>1</td>\n",
       "    </tr>\n",
       "  </tbody>\n",
       "</table>\n",
       "</div>"
      ],
      "text/plain": [
       "        Age  RoomService  FoodCourt  ShoppingMall       Spa    VRDeck  \\\n",
       "0  0.709396    -0.333085  -0.281011     -0.283562 -0.270610 -0.262988   \n",
       "1 -0.336698    -0.168064  -0.275371     -0.241757  0.217146 -0.224192   \n",
       "2  2.034449    -0.267985   1.959885     -0.283562  5.695295 -0.219783   \n",
       "\n",
       "   HomePlanet_Earth  HomePlanet_Europa  HomePlanet_Mars  CryoSleep_False  \\\n",
       "0                 0                  1                0                1   \n",
       "1                 1                  0                0                1   \n",
       "2                 0                  1                0                1   \n",
       "\n",
       "   CryoSleep_True  Destination_55 Cancri e  Destination_PSO J318.5-22  \\\n",
       "0               0                        0                          0   \n",
       "1               0                        0                          0   \n",
       "2               0                        0                          0   \n",
       "\n",
       "   Destination_TRAPPIST-1e  VIP_False  VIP_True  \n",
       "0                        1          1         0  \n",
       "1                        1          1         0  \n",
       "2                        1          0         1  "
      ]
     },
     "execution_count": 19,
     "metadata": {},
     "output_type": "execute_result"
    }
   ],
   "source": [
    "X_train.head(3)"
   ]
  },
  {
   "cell_type": "code",
   "execution_count": 20,
   "id": "66811cea",
   "metadata": {},
   "outputs": [],
   "source": [
    "from sklearn.neighbors import KNeighborsClassifier\n",
    "from sklearn.model_selection import cross_val_score"
   ]
  },
  {
   "cell_type": "code",
   "execution_count": 21,
   "id": "80042b43",
   "metadata": {},
   "outputs": [
    {
     "data": {
      "text/plain": [
       "77.0"
      ]
     },
     "execution_count": 21,
     "metadata": {},
     "output_type": "execute_result"
    }
   ],
   "source": [
    "model = KNeighborsClassifier(10)\n",
    "\n",
    "np.round(cross_val_score(model, X_train, y_train, cv=3).mean() * 100)"
   ]
  },
  {
   "cell_type": "markdown",
   "id": "4f01451d",
   "metadata": {},
   "source": [
    "# 8. Build a Confusion Matrix of your prediction on test folds. \n",
    "What are your specificity and sensitivity? (two integers 0-100, divided by a comma)\n"
   ]
  },
  {
   "cell_type": "code",
   "execution_count": 22,
   "id": "a0443889",
   "metadata": {},
   "outputs": [],
   "source": [
    "from sklearn.model_selection import cross_val_predict\n",
    "from sklearn.metrics import confusion_matrix"
   ]
  },
  {
   "cell_type": "code",
   "execution_count": 23,
   "id": "a4179f84",
   "metadata": {},
   "outputs": [],
   "source": [
    "y_pred = cross_val_predict(model, X_train, y_train, cv=3)\n",
    "tn, fp, fn, tp = confusion_matrix(y_train, y_pred).ravel()"
   ]
  },
  {
   "cell_type": "code",
   "execution_count": 24,
   "id": "ff1d9a8f",
   "metadata": {},
   "outputs": [],
   "source": [
    "specificity = tn / (tn + fp)\n",
    "sensitivity = tp / (tp + fn)"
   ]
  },
  {
   "cell_type": "code",
   "execution_count": 25,
   "id": "81d25c16",
   "metadata": {},
   "outputs": [
    {
     "data": {
      "text/plain": [
       "79.0"
      ]
     },
     "execution_count": 25,
     "metadata": {},
     "output_type": "execute_result"
    }
   ],
   "source": [
    "np.round(specificity * 100)"
   ]
  },
  {
   "cell_type": "code",
   "execution_count": 26,
   "id": "d2073315",
   "metadata": {},
   "outputs": [
    {
     "data": {
      "text/plain": [
       "76.0"
      ]
     },
     "execution_count": 26,
     "metadata": {},
     "output_type": "execute_result"
    }
   ],
   "source": [
    "np.round(sensitivity * 100)"
   ]
  },
  {
   "cell_type": "markdown",
   "id": "53ec9767",
   "metadata": {},
   "source": [
    "# 9. Try different values of k for KNN: 3, 5, 10, 15, 30, 50, which k yields the best result in terms of classification accuracy?"
   ]
  },
  {
   "cell_type": "code",
   "execution_count": 27,
   "id": "9333695b",
   "metadata": {},
   "outputs": [],
   "source": [
    "from sklearn.model_selection import GridSearchCV"
   ]
  },
  {
   "cell_type": "code",
   "execution_count": 28,
   "id": "5af38837",
   "metadata": {},
   "outputs": [
    {
     "data": {
      "text/plain": [
       "GridSearchCV(cv=3, estimator=KNeighborsClassifier(),\n",
       "             param_grid={'n_neighbors': [3, 5, 10, 15, 30, 50]})"
      ]
     },
     "execution_count": 28,
     "metadata": {},
     "output_type": "execute_result"
    }
   ],
   "source": [
    "grid = {\n",
    "    'n_neighbors': [3,5,10,15,30,50]\n",
    "}\n",
    "\n",
    "gs = GridSearchCV(KNeighborsClassifier(), param_grid=grid, cv=3)\n",
    "gs.fit(X_train, y_train)"
   ]
  },
  {
   "cell_type": "code",
   "execution_count": 29,
   "id": "bc210e68",
   "metadata": {},
   "outputs": [
    {
     "data": {
      "text/plain": [
       "KNeighborsClassifier(n_neighbors=15)"
      ]
     },
     "execution_count": 29,
     "metadata": {},
     "output_type": "execute_result"
    }
   ],
   "source": [
    "gs.best_estimator_"
   ]
  },
  {
   "cell_type": "code",
   "execution_count": 30,
   "id": "793437c0",
   "metadata": {},
   "outputs": [
    {
     "data": {
      "text/plain": [
       "0.7836203479972896"
      ]
     },
     "execution_count": 30,
     "metadata": {},
     "output_type": "execute_result"
    }
   ],
   "source": [
    "gs.best_score_"
   ]
  },
  {
   "cell_type": "markdown",
   "id": "2a850544",
   "metadata": {},
   "source": [
    "# 10. If you are minimizing the number of False Positives, which k should you use?"
   ]
  },
  {
   "cell_type": "code",
   "execution_count": 31,
   "id": "c310314d",
   "metadata": {},
   "outputs": [],
   "source": [
    "from sklearn.model_selection import KFold\n",
    "from tqdm.notebook import tqdm"
   ]
  },
  {
   "cell_type": "code",
   "execution_count": 32,
   "id": "51c330c1",
   "metadata": {},
   "outputs": [
    {
     "data": {
      "application/vnd.jupyter.widget-view+json": {
       "model_id": "d2733215a67d49b39d85044c74ebc6be",
       "version_major": 2,
       "version_minor": 0
      },
      "text/plain": [
       "  0%|          | 0/6 [00:00<?, ?it/s]"
      ]
     },
     "metadata": {},
     "output_type": "display_data"
    }
   ],
   "source": [
    "fp_dict = dict()\n",
    "\n",
    "for k in tqdm(grid['n_neighbors']):\n",
    "    model = KNeighborsClassifier(k)\n",
    "    fp_dict[k] = []\n",
    "    for train, test in KFold(3, shuffle=True, random_state=71).split(X_train, y_train):\n",
    "        train_X, test_X = X_train.iloc[train], X_train.iloc[test]\n",
    "        train_y, test_y = y_train[train], y_train[test]\n",
    "        \n",
    "        model.fit(train_X, train_y)\n",
    "        y_pred = model.predict(test_X)\n",
    "        \n",
    "        _, fp, _, _ = confusion_matrix(test_y, y_pred).ravel()\n",
    "        fp_dict[k].append(fp)\n",
    "    fp_dict[k] = sum(fp_dict[k]) "
   ]
  },
  {
   "cell_type": "code",
   "execution_count": 33,
   "id": "e7eea9bd",
   "metadata": {},
   "outputs": [
    {
     "data": {
      "text/plain": [
       "{3: 1023, 5: 1035, 10: 893, 15: 1035, 30: 979, 50: 993}"
      ]
     },
     "execution_count": 33,
     "metadata": {},
     "output_type": "execute_result"
    }
   ],
   "source": [
    "fp_dict\n",
    "\n",
    "# ~10"
   ]
  },
  {
   "cell_type": "markdown",
   "id": "3e75cec9",
   "metadata": {},
   "source": [
    "# 11. For the best model in terms of classification accuracy load test data, \n",
    "make predictions and submit them on kaggle, does the performance of your model\n",
    "differ on cross-validation and on the test set, which is better?"
   ]
  },
  {
   "cell_type": "code",
   "execution_count": 34,
   "id": "7091abfe",
   "metadata": {},
   "outputs": [],
   "source": [
    "df_test = pd.read_csv('test.csv')"
   ]
  },
  {
   "cell_type": "code",
   "execution_count": 35,
   "id": "58c85472",
   "metadata": {},
   "outputs": [],
   "source": [
    "X_test = df_test.drop(['Name', 'Cabin', 'PassengerId'], axis=1)\n",
    "\n",
    "# Preprocess test data in a same way we have preprocessed train data,\n",
    "# recall that we take all statistics from the train set.\n",
    "# Typically you want to write a function to preprocess both train and test in a same way.\n",
    "\n",
    "# Fill NA in categorical features\n",
    "\n",
    "for col in categorical_features:\n",
    "    fill_val = df_train[col].mode().values[0]\n",
    "    X_test[col] = X_test[col].fillna(str(fill_val))\n",
    "    X_test[col] = X_test[col].astype(str)\n",
    "\n",
    "# Fill NA in numerical features\n",
    "\n",
    "X_test['Age'] = X_test['Age'].fillna(df_train['Age'].mean())\n",
    "X_test[numerical_features] = X_test[numerical_features].fillna(0)\n",
    "\n",
    "# Standardize numerical features\n",
    "\n",
    "mean = df_train[numerical_features].mean(axis=0)\n",
    "std = df_train[numerical_features].std(axis=0)\n",
    "X_test[numerical_features] = (X_test[numerical_features] - mean) / std\n",
    "\n",
    "dummy_cols = pd.get_dummies(X_test[categorical_features])\n",
    "X_test.drop(categorical_features, axis=1, inplace=True)\n",
    "\n",
    "X_test = pd.merge(X_test, dummy_cols, right_index=True, left_index=True)\n",
    "\n",
    "columns = X_train.columns\n",
    "X_test = X_test[columns]"
   ]
  },
  {
   "cell_type": "code",
   "execution_count": 36,
   "id": "875bac7e",
   "metadata": {},
   "outputs": [
    {
     "data": {
      "text/plain": [
       "array([ True, False,  True, ...,  True,  True,  True])"
      ]
     },
     "execution_count": 36,
     "metadata": {},
     "output_type": "execute_result"
    }
   ],
   "source": [
    "gs.best_estimator_.predict(X_test)"
   ]
  },
  {
   "cell_type": "code",
   "execution_count": 37,
   "id": "2412a9bb",
   "metadata": {},
   "outputs": [],
   "source": [
    "df_pred = pd.DataFrame()\n",
    "df_pred['PassengerId'] = df_test['PassengerId']\n",
    "df_pred['Transported'] = gs.best_estimator_.predict(X_test)\n",
    "\n",
    "df_pred.to_csv('pred_knn.csv', index=False)"
   ]
  },
  {
   "cell_type": "code",
   "execution_count": null,
   "id": "b8600e18",
   "metadata": {},
   "outputs": [],
   "source": []
  }
 ],
 "metadata": {
  "kernelspec": {
   "display_name": "Python 3",
   "language": "python",
   "name": "python3"
  },
  "language_info": {
   "codemirror_mode": {
    "name": "ipython",
    "version": 3
   },
   "file_extension": ".py",
   "mimetype": "text/x-python",
   "name": "python",
   "nbconvert_exporter": "python",
   "pygments_lexer": "ipython3",
   "version": "3.8.8"
  }
 },
 "nbformat": 4,
 "nbformat_minor": 5
}
