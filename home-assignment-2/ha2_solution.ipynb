{
 "cells": [
  {
   "cell_type": "code",
   "execution_count": 4,
   "id": "9efc7801",
   "metadata": {},
   "outputs": [],
   "source": [
    "import pandas as pd"
   ]
  },
  {
   "cell_type": "code",
   "execution_count": 5,
   "id": "3e1c6c80",
   "metadata": {},
   "outputs": [
    {
     "data": {
      "text/html": [
       "<div>\n",
       "<style scoped>\n",
       "    .dataframe tbody tr th:only-of-type {\n",
       "        vertical-align: middle;\n",
       "    }\n",
       "\n",
       "    .dataframe tbody tr th {\n",
       "        vertical-align: top;\n",
       "    }\n",
       "\n",
       "    .dataframe thead th {\n",
       "        text-align: right;\n",
       "    }\n",
       "</style>\n",
       "<table border=\"1\" class=\"dataframe\">\n",
       "  <thead>\n",
       "    <tr style=\"text-align: right;\">\n",
       "      <th></th>\n",
       "      <th>channelGrouping</th>\n",
       "      <th>visitNumber</th>\n",
       "      <th>device.browser</th>\n",
       "      <th>device.operatingSystem</th>\n",
       "      <th>device.isMobile</th>\n",
       "      <th>device.deviceCategory</th>\n",
       "      <th>geoNetwork.continent</th>\n",
       "      <th>geoNetwork.subContinent</th>\n",
       "      <th>geoNetwork.country</th>\n",
       "      <th>geoNetwork.city</th>\n",
       "      <th>...</th>\n",
       "      <th>trafficSource.medium</th>\n",
       "      <th>trafficSource.isTrueDirect</th>\n",
       "      <th>trafficSource.adwordsClickInfo.isVideoAd</th>\n",
       "      <th>weekday</th>\n",
       "      <th>day</th>\n",
       "      <th>month</th>\n",
       "      <th>year</th>\n",
       "      <th>visitHour</th>\n",
       "      <th>customDimensions.value</th>\n",
       "      <th>totals.totalTransactionRevenue</th>\n",
       "    </tr>\n",
       "  </thead>\n",
       "  <tbody>\n",
       "    <tr>\n",
       "      <th>0</th>\n",
       "      <td>Organic Search</td>\n",
       "      <td>1</td>\n",
       "      <td>Chrome</td>\n",
       "      <td>Macintosh</td>\n",
       "      <td>0</td>\n",
       "      <td>desktop</td>\n",
       "      <td>Americas</td>\n",
       "      <td>Central America</td>\n",
       "      <td>Mexico</td>\n",
       "      <td>Mexico City</td>\n",
       "      <td>...</td>\n",
       "      <td>organic</td>\n",
       "      <td>0</td>\n",
       "      <td>1</td>\n",
       "      <td>0</td>\n",
       "      <td>16</td>\n",
       "      <td>10</td>\n",
       "      <td>2017</td>\n",
       "      <td>5</td>\n",
       "      <td>Central America</td>\n",
       "      <td>0.0</td>\n",
       "    </tr>\n",
       "    <tr>\n",
       "      <th>1</th>\n",
       "      <td>Organic Search</td>\n",
       "      <td>1</td>\n",
       "      <td>Chrome</td>\n",
       "      <td>Windows</td>\n",
       "      <td>0</td>\n",
       "      <td>desktop</td>\n",
       "      <td>Americas</td>\n",
       "      <td>Northern America</td>\n",
       "      <td>Canada</td>\n",
       "      <td>not available in demo dataset</td>\n",
       "      <td>...</td>\n",
       "      <td>organic</td>\n",
       "      <td>0</td>\n",
       "      <td>1</td>\n",
       "      <td>0</td>\n",
       "      <td>16</td>\n",
       "      <td>10</td>\n",
       "      <td>2017</td>\n",
       "      <td>20</td>\n",
       "      <td>North America</td>\n",
       "      <td>0.0</td>\n",
       "    </tr>\n",
       "    <tr>\n",
       "      <th>2</th>\n",
       "      <td>Organic Search</td>\n",
       "      <td>1</td>\n",
       "      <td>Chrome</td>\n",
       "      <td>Linux</td>\n",
       "      <td>0</td>\n",
       "      <td>desktop</td>\n",
       "      <td>Asia</td>\n",
       "      <td>Eastern Asia</td>\n",
       "      <td>Taiwan</td>\n",
       "      <td>not available in demo dataset</td>\n",
       "      <td>...</td>\n",
       "      <td>organic</td>\n",
       "      <td>0</td>\n",
       "      <td>1</td>\n",
       "      <td>0</td>\n",
       "      <td>16</td>\n",
       "      <td>10</td>\n",
       "      <td>2017</td>\n",
       "      <td>9</td>\n",
       "      <td>APAC</td>\n",
       "      <td>0.0</td>\n",
       "    </tr>\n",
       "  </tbody>\n",
       "</table>\n",
       "<p>3 rows × 28 columns</p>\n",
       "</div>"
      ],
      "text/plain": [
       "  channelGrouping  visitNumber device.browser device.operatingSystem  \\\n",
       "0  Organic Search            1         Chrome              Macintosh   \n",
       "1  Organic Search            1         Chrome                Windows   \n",
       "2  Organic Search            1         Chrome                  Linux   \n",
       "\n",
       "   device.isMobile device.deviceCategory geoNetwork.continent  \\\n",
       "0                0               desktop             Americas   \n",
       "1                0               desktop             Americas   \n",
       "2                0               desktop                 Asia   \n",
       "\n",
       "  geoNetwork.subContinent geoNetwork.country                geoNetwork.city  \\\n",
       "0         Central America             Mexico                    Mexico City   \n",
       "1        Northern America             Canada  not available in demo dataset   \n",
       "2            Eastern Asia             Taiwan  not available in demo dataset   \n",
       "\n",
       "   ...  trafficSource.medium  trafficSource.isTrueDirect  \\\n",
       "0  ...               organic                           0   \n",
       "1  ...               organic                           0   \n",
       "2  ...               organic                           0   \n",
       "\n",
       "   trafficSource.adwordsClickInfo.isVideoAd  weekday  day  month  year  \\\n",
       "0                                         1        0   16     10  2017   \n",
       "1                                         1        0   16     10  2017   \n",
       "2                                         1        0   16     10  2017   \n",
       "\n",
       "  visitHour customDimensions.value  totals.totalTransactionRevenue  \n",
       "0         5        Central America                             0.0  \n",
       "1        20          North America                             0.0  \n",
       "2         9                   APAC                             0.0  \n",
       "\n",
       "[3 rows x 28 columns]"
      ]
     },
     "execution_count": 5,
     "metadata": {},
     "output_type": "execute_result"
    }
   ],
   "source": [
    "df_train = pd.read_csv('ha2_train.csv')\n",
    "\n",
    "df_train.head(3)"
   ]
  },
  {
   "cell_type": "markdown",
   "id": "dd773dee",
   "metadata": {},
   "source": [
    "### 1. (0) How many observations are in your training dataset? How many features? (two integer numbers divided by a comma, e.g. 1000, 10) `(251396, 28)`"
   ]
  },
  {
   "cell_type": "code",
   "execution_count": 3,
   "id": "5f04e896",
   "metadata": {},
   "outputs": [
    {
     "data": {
      "text/plain": [
       "(251396, 28)"
      ]
     },
     "execution_count": 3,
     "metadata": {},
     "output_type": "execute_result"
    }
   ],
   "source": [
    "df_train.shape"
   ]
  },
  {
   "cell_type": "markdown",
   "id": "56e7a9bb",
   "metadata": {},
   "source": [
    "### 2. (1) Encode rare categories (less than 1000 occurrences) in categorical features with the value “Other”. How many columns requires such imputation? (single integer number) `10`\n"
   ]
  },
  {
   "cell_type": "code",
   "execution_count": 4,
   "id": "ca6dc81b",
   "metadata": {},
   "outputs": [
    {
     "data": {
      "text/plain": [
       "['channelGrouping',\n",
       " 'device.browser',\n",
       " 'device.operatingSystem',\n",
       " 'device.deviceCategory',\n",
       " 'geoNetwork.continent',\n",
       " 'geoNetwork.subContinent',\n",
       " 'geoNetwork.country',\n",
       " 'geoNetwork.city',\n",
       " 'trafficSource.campaign',\n",
       " 'trafficSource.source',\n",
       " 'trafficSource.medium',\n",
       " 'customDimensions.value']"
      ]
     },
     "execution_count": 4,
     "metadata": {},
     "output_type": "execute_result"
    }
   ],
   "source": [
    "cat_columns = list(df_train.dtypes[df_train.dtypes == object].index)\n",
    "\n",
    "cat_columns"
   ]
  },
  {
   "cell_type": "code",
   "execution_count": 5,
   "id": "0fce0b75",
   "metadata": {},
   "outputs": [
    {
     "name": "stdout",
     "output_type": "stream",
     "text": [
      "channelGrouping\n",
      "device.browser\n",
      "device.operatingSystem\n",
      "geoNetwork.continent\n",
      "geoNetwork.subContinent\n",
      "geoNetwork.country\n",
      "geoNetwork.city\n",
      "trafficSource.campaign\n",
      "trafficSource.source\n",
      "trafficSource.medium\n"
     ]
    }
   ],
   "source": [
    "columns_less1000 = []\n",
    "for col in cat_columns:    \n",
    "    value_counts = df_train[col].value_counts()\n",
    "    values, counts = list(value_counts.index), value_counts.values\n",
    "    \n",
    "    if any([c < 1000 for c in counts]):\n",
    "        print(col)\n",
    "        columns_less1000.append(col)"
   ]
  },
  {
   "cell_type": "code",
   "execution_count": 6,
   "id": "f9d027d4",
   "metadata": {},
   "outputs": [
    {
     "data": {
      "text/plain": [
       "10"
      ]
     },
     "execution_count": 6,
     "metadata": {},
     "output_type": "execute_result"
    }
   ],
   "source": [
    "len(columns_less1000)"
   ]
  },
  {
   "cell_type": "code",
   "execution_count": 7,
   "id": "8d3a253b",
   "metadata": {},
   "outputs": [],
   "source": [
    "def fill_rare(df, cols=columns_less1000):\n",
    "    for col in cols:\n",
    "        df.loc[df[col].value_counts()[df[col]].values < 1000, col] = 'Other'"
   ]
  },
  {
   "cell_type": "code",
   "execution_count": 8,
   "id": "99956db1",
   "metadata": {},
   "outputs": [],
   "source": [
    "fill_rare(df_train)"
   ]
  },
  {
   "cell_type": "markdown",
   "id": "daf97012",
   "metadata": {},
   "source": [
    "### 3. (1) What is the median value of totals.totalTransactionRevenue? `0.0`"
   ]
  },
  {
   "cell_type": "code",
   "execution_count": 9,
   "id": "5c91031e",
   "metadata": {},
   "outputs": [
    {
     "data": {
      "text/plain": [
       "0.0"
      ]
     },
     "execution_count": 9,
     "metadata": {},
     "output_type": "execute_result"
    }
   ],
   "source": [
    "df_train['totals.totalTransactionRevenue'].median()"
   ]
  },
  {
   "cell_type": "markdown",
   "id": "92813a27",
   "metadata": {},
   "source": [
    "### 4. (1) Build a histogram of successful (non-zero) transactions, what is their median value in dollars? `53.975`\n"
   ]
  },
  {
   "cell_type": "code",
   "execution_count": 10,
   "id": "2c1783f6",
   "metadata": {},
   "outputs": [
    {
     "data": {
      "text/plain": [
       "53.975"
      ]
     },
     "execution_count": 10,
     "metadata": {},
     "output_type": "execute_result"
    }
   ],
   "source": [
    "df_train[df_train['totals.totalTransactionRevenue'] > 0]['totals.totalTransactionRevenue'].median() / 1000000"
   ]
  },
  {
   "cell_type": "markdown",
   "id": "f3aabbd2",
   "metadata": {},
   "source": [
    "### 5. (0.33)  Analyze totals.totalTransactionRevenue with respect to categorical features. For channelGrouping what is its most frequent value?  `Organic Search `"
   ]
  },
  {
   "cell_type": "code",
   "execution_count": 11,
   "id": "86ad067f",
   "metadata": {},
   "outputs": [
    {
     "data": {
      "text/plain": [
       "Organic Search    108055\n",
       "Social             50512\n",
       "Direct             40450\n",
       "Referral           32677\n",
       "Display             7854\n",
       "Paid Search         6916\n",
       "Affiliates          4914\n",
       "Other                 18\n",
       "Name: channelGrouping, dtype: int64"
      ]
     },
     "execution_count": 11,
     "metadata": {},
     "output_type": "execute_result"
    }
   ],
   "source": [
    "df_train['channelGrouping'].value_counts()"
   ]
  },
  {
   "cell_type": "markdown",
   "id": "7456b3d3",
   "metadata": {},
   "source": [
    "### 6. (0.33) What is channelGrouping with the highest sum of totals.totalTransactionRevenue?  `Referral`"
   ]
  },
  {
   "cell_type": "code",
   "execution_count": 12,
   "id": "ed225fdd",
   "metadata": {},
   "outputs": [
    {
     "data": {
      "text/html": [
       "<div>\n",
       "<style scoped>\n",
       "    .dataframe tbody tr th:only-of-type {\n",
       "        vertical-align: middle;\n",
       "    }\n",
       "\n",
       "    .dataframe tbody tr th {\n",
       "        vertical-align: top;\n",
       "    }\n",
       "\n",
       "    .dataframe thead th {\n",
       "        text-align: right;\n",
       "    }\n",
       "</style>\n",
       "<table border=\"1\" class=\"dataframe\">\n",
       "  <thead>\n",
       "    <tr style=\"text-align: right;\">\n",
       "      <th></th>\n",
       "      <th>sum</th>\n",
       "    </tr>\n",
       "    <tr>\n",
       "      <th>channelGrouping</th>\n",
       "      <th></th>\n",
       "    </tr>\n",
       "  </thead>\n",
       "  <tbody>\n",
       "    <tr>\n",
       "      <th>Other</th>\n",
       "      <td>0.000000e+00</td>\n",
       "    </tr>\n",
       "    <tr>\n",
       "      <th>Affiliates</th>\n",
       "      <td>2.131900e+08</td>\n",
       "    </tr>\n",
       "    <tr>\n",
       "      <th>Social</th>\n",
       "      <td>3.188260e+09</td>\n",
       "    </tr>\n",
       "    <tr>\n",
       "      <th>Paid Search</th>\n",
       "      <td>1.305409e+10</td>\n",
       "    </tr>\n",
       "    <tr>\n",
       "      <th>Display</th>\n",
       "      <td>1.796692e+10</td>\n",
       "    </tr>\n",
       "    <tr>\n",
       "      <th>Organic Search</th>\n",
       "      <td>1.013594e+11</td>\n",
       "    </tr>\n",
       "    <tr>\n",
       "      <th>Direct</th>\n",
       "      <td>1.364877e+11</td>\n",
       "    </tr>\n",
       "    <tr>\n",
       "      <th>Referral</th>\n",
       "      <td>1.698390e+11</td>\n",
       "    </tr>\n",
       "  </tbody>\n",
       "</table>\n",
       "</div>"
      ],
      "text/plain": [
       "                          sum\n",
       "channelGrouping              \n",
       "Other            0.000000e+00\n",
       "Affiliates       2.131900e+08\n",
       "Social           3.188260e+09\n",
       "Paid Search      1.305409e+10\n",
       "Display          1.796692e+10\n",
       "Organic Search   1.013594e+11\n",
       "Direct           1.364877e+11\n",
       "Referral         1.698390e+11"
      ]
     },
     "execution_count": 12,
     "metadata": {},
     "output_type": "execute_result"
    }
   ],
   "source": [
    "df_train.groupby('channelGrouping')['totals.totalTransactionRevenue'].agg(['sum']).sort_values('sum')"
   ]
  },
  {
   "cell_type": "markdown",
   "id": "b5a98e21",
   "metadata": {},
   "source": [
    "### 7. (0.34) What is the month with the highest mean of totals.totalTransactionRevenue? `June`"
   ]
  },
  {
   "cell_type": "code",
   "execution_count": 13,
   "id": "bb9a063a",
   "metadata": {},
   "outputs": [
    {
     "data": {
      "text/html": [
       "<div>\n",
       "<style scoped>\n",
       "    .dataframe tbody tr th:only-of-type {\n",
       "        vertical-align: middle;\n",
       "    }\n",
       "\n",
       "    .dataframe tbody tr th {\n",
       "        vertical-align: top;\n",
       "    }\n",
       "\n",
       "    .dataframe thead th {\n",
       "        text-align: right;\n",
       "    }\n",
       "</style>\n",
       "<table border=\"1\" class=\"dataframe\">\n",
       "  <thead>\n",
       "    <tr style=\"text-align: right;\">\n",
       "      <th></th>\n",
       "      <th>mean</th>\n",
       "    </tr>\n",
       "    <tr>\n",
       "      <th>month</th>\n",
       "      <th></th>\n",
       "    </tr>\n",
       "  </thead>\n",
       "  <tbody>\n",
       "    <tr>\n",
       "      <th>10</th>\n",
       "      <td>1.028611e+06</td>\n",
       "    </tr>\n",
       "    <tr>\n",
       "      <th>11</th>\n",
       "      <td>1.101695e+06</td>\n",
       "    </tr>\n",
       "    <tr>\n",
       "      <th>3</th>\n",
       "      <td>1.536391e+06</td>\n",
       "    </tr>\n",
       "    <tr>\n",
       "      <th>1</th>\n",
       "      <td>1.623036e+06</td>\n",
       "    </tr>\n",
       "    <tr>\n",
       "      <th>7</th>\n",
       "      <td>1.624228e+06</td>\n",
       "    </tr>\n",
       "    <tr>\n",
       "      <th>12</th>\n",
       "      <td>1.685706e+06</td>\n",
       "    </tr>\n",
       "    <tr>\n",
       "      <th>4</th>\n",
       "      <td>1.701545e+06</td>\n",
       "    </tr>\n",
       "    <tr>\n",
       "      <th>9</th>\n",
       "      <td>2.056668e+06</td>\n",
       "    </tr>\n",
       "    <tr>\n",
       "      <th>5</th>\n",
       "      <td>2.163146e+06</td>\n",
       "    </tr>\n",
       "    <tr>\n",
       "      <th>2</th>\n",
       "      <td>2.259118e+06</td>\n",
       "    </tr>\n",
       "    <tr>\n",
       "      <th>8</th>\n",
       "      <td>2.673355e+06</td>\n",
       "    </tr>\n",
       "    <tr>\n",
       "      <th>6</th>\n",
       "      <td>3.024198e+06</td>\n",
       "    </tr>\n",
       "  </tbody>\n",
       "</table>\n",
       "</div>"
      ],
      "text/plain": [
       "               mean\n",
       "month              \n",
       "10     1.028611e+06\n",
       "11     1.101695e+06\n",
       "3      1.536391e+06\n",
       "1      1.623036e+06\n",
       "7      1.624228e+06\n",
       "12     1.685706e+06\n",
       "4      1.701545e+06\n",
       "9      2.056668e+06\n",
       "5      2.163146e+06\n",
       "2      2.259118e+06\n",
       "8      2.673355e+06\n",
       "6      3.024198e+06"
      ]
     },
     "execution_count": 13,
     "metadata": {},
     "output_type": "execute_result"
    }
   ],
   "source": [
    "df_train.groupby('month')['totals.totalTransactionRevenue'].agg(['mean']).sort_values('mean')"
   ]
  },
  {
   "cell_type": "markdown",
   "id": "a2a6a990",
   "metadata": {},
   "source": [
    "### 8. (1) Build a histogram/barchart of device.browser. For which device.browser the largest mean totals.totalTransactionRevenue is achieved? `Firefox`"
   ]
  },
  {
   "cell_type": "code",
   "execution_count": 14,
   "id": "11c28225",
   "metadata": {},
   "outputs": [
    {
     "data": {
      "text/html": [
       "<div>\n",
       "<style scoped>\n",
       "    .dataframe tbody tr th:only-of-type {\n",
       "        vertical-align: middle;\n",
       "    }\n",
       "\n",
       "    .dataframe tbody tr th {\n",
       "        vertical-align: top;\n",
       "    }\n",
       "\n",
       "    .dataframe thead th {\n",
       "        text-align: right;\n",
       "    }\n",
       "</style>\n",
       "<table border=\"1\" class=\"dataframe\">\n",
       "  <thead>\n",
       "    <tr style=\"text-align: right;\">\n",
       "      <th></th>\n",
       "      <th>mean</th>\n",
       "    </tr>\n",
       "    <tr>\n",
       "      <th>device.browser</th>\n",
       "      <th></th>\n",
       "    </tr>\n",
       "  </thead>\n",
       "  <tbody>\n",
       "    <tr>\n",
       "      <th>Internet Explorer</th>\n",
       "      <td>2.652093e+05</td>\n",
       "    </tr>\n",
       "    <tr>\n",
       "      <th>Safari</th>\n",
       "      <td>3.304650e+05</td>\n",
       "    </tr>\n",
       "    <tr>\n",
       "      <th>Edge</th>\n",
       "      <td>6.712960e+05</td>\n",
       "    </tr>\n",
       "    <tr>\n",
       "      <th>Chrome</th>\n",
       "      <td>2.111971e+06</td>\n",
       "    </tr>\n",
       "    <tr>\n",
       "      <th>Firefox</th>\n",
       "      <td>6.132851e+06</td>\n",
       "    </tr>\n",
       "  </tbody>\n",
       "</table>\n",
       "</div>"
      ],
      "text/plain": [
       "                           mean\n",
       "device.browser                 \n",
       "Internet Explorer  2.652093e+05\n",
       "Safari             3.304650e+05\n",
       "Edge               6.712960e+05\n",
       "Chrome             2.111971e+06\n",
       "Firefox            6.132851e+06"
      ]
     },
     "execution_count": 14,
     "metadata": {},
     "output_type": "execute_result"
    }
   ],
   "source": [
    "df_train.groupby('device.browser')['totals.totalTransactionRevenue'].agg(['mean']).sort_values('mean').tail()"
   ]
  },
  {
   "cell_type": "markdown",
   "id": "39ac9d1d",
   "metadata": {},
   "source": [
    "### 9. (1) Build a line chart of sums of totals.totalTransactionRevenue depending on visitHour. What is the peak sales hour? (integer number from 0 to 23), hint: use groupby. `18`"
   ]
  },
  {
   "cell_type": "code",
   "execution_count": 15,
   "id": "dd4e09fb",
   "metadata": {},
   "outputs": [
    {
     "data": {
      "image/png": "[encoded data removed]",
      "text/plain": [
       "<Figure size 432x288 with 1 Axes>"
      ]
     },
     "metadata": {
      "needs_background": "light"
     },
     "output_type": "display_data"
    }
   ],
   "source": [
    "df_train.groupby('visitHour')['totals.totalTransactionRevenue'].agg(['sum']).plot();"
   ]
  },
  {
   "cell_type": "markdown",
   "id": "9befca05",
   "metadata": {},
   "source": [
    "### 10. (1) Prepare totals.totalTransactionRevenue for model training. Create a new column log_totals.totalTransactionRevenue = log(1+totals.totalTransactionRevenue). Drop column totals.totalTransactionRevenue. What is the mean value of the log_totals.totalTransactionRevenue column? (hint, both numpy and Orange have log1p function). `0.207`\n"
   ]
  },
  {
   "cell_type": "code",
   "execution_count": 16,
   "id": "911dbc96",
   "metadata": {},
   "outputs": [],
   "source": [
    "import numpy as np"
   ]
  },
  {
   "cell_type": "code",
   "execution_count": 17,
   "id": "7ad0b88a",
   "metadata": {},
   "outputs": [
    {
     "data": {
      "text/plain": [
       "0.20700909346007737"
      ]
     },
     "execution_count": 17,
     "metadata": {},
     "output_type": "execute_result"
    }
   ],
   "source": [
    "np.log1p(df_train['totals.totalTransactionRevenue']).mean()"
   ]
  },
  {
   "cell_type": "markdown",
   "id": "c8e7864d",
   "metadata": {},
   "source": [
    "### 11. (0.5) Train a Catboost regression model to predict log_totals.totalTransactionRevenue. What is your test score in terms of MAE? Do not forget to apply all necessary preprocessing to a test part of the data.\n"
   ]
  },
  {
   "cell_type": "code",
   "execution_count": 18,
   "id": "d8bd5885",
   "metadata": {},
   "outputs": [],
   "source": [
    "from catboost import CatBoostRegressor, Pool"
   ]
  },
  {
   "cell_type": "code",
   "execution_count": 19,
   "id": "d1c50673",
   "metadata": {},
   "outputs": [],
   "source": [
    "df_test = pd.read_csv('ha2_test.csv')"
   ]
  },
  {
   "cell_type": "code",
   "execution_count": 20,
   "id": "efddcabc",
   "metadata": {},
   "outputs": [],
   "source": [
    "def return_X_y(df):\n",
    "    fill_rare(df)\n",
    "    X = df.drop(['totals.totalTransactionRevenue'], axis=1)    \n",
    "    y = df['totals.totalTransactionRevenue']\n",
    "    \n",
    "    return X, y\n",
    "\n",
    "X_train, y_train = return_X_y(df_train)\n",
    "X_test, y_test = return_X_y(df_test)"
   ]
  },
  {
   "cell_type": "code",
   "execution_count": 21,
   "id": "71022d3b",
   "metadata": {},
   "outputs": [],
   "source": [
    "dataset_train = Pool(X_train, np.log1p(y_train), cat_columns)\n",
    "dataset_test = Pool(X_test, np.log1p(y_test), cat_columns)"
   ]
  },
  {
   "cell_type": "code",
   "execution_count": 22,
   "id": "92211e17",
   "metadata": {},
   "outputs": [
    {
     "name": "stdout",
     "output_type": "stream",
     "text": [
      "Learning rate set to 0.12127\n",
      "0:\tlearn: 1.8642300\ttest: 1.9865012\tbest: 1.9865012 (0)\ttotal: 129ms\tremaining: 2m 8s\n",
      "100:\tlearn: 1.5396229\ttest: 1.6676410\tbest: 1.6676410 (100)\ttotal: 6.83s\tremaining: 1m\n",
      "200:\tlearn: 1.4905106\ttest: 1.6360546\tbest: 1.6360546 (200)\ttotal: 13.7s\tremaining: 54.3s\n",
      "300:\tlearn: 1.4582867\ttest: 1.6161950\tbest: 1.6161950 (300)\ttotal: 20.6s\tremaining: 47.9s\n",
      "400:\tlearn: 1.4268355\ttest: 1.5996346\tbest: 1.5996304 (399)\ttotal: 27.3s\tremaining: 40.8s\n",
      "500:\tlearn: 1.4052834\ttest: 1.5901328\tbest: 1.5901328 (500)\ttotal: 34s\tremaining: 33.9s\n",
      "600:\tlearn: 1.3853062\ttest: 1.5820846\tbest: 1.5820655 (599)\ttotal: 40.8s\tremaining: 27.1s\n",
      "700:\tlearn: 1.3660402\ttest: 1.5750242\tbest: 1.5749799 (698)\ttotal: 47.4s\tremaining: 20.2s\n",
      "800:\tlearn: 1.3480482\ttest: 1.5682939\tbest: 1.5682939 (800)\ttotal: 54.2s\tremaining: 13.5s\n",
      "900:\tlearn: 1.3326292\ttest: 1.5622199\tbest: 1.5622139 (899)\ttotal: 1m 1s\tremaining: 6.72s\n",
      "999:\tlearn: 1.3181101\ttest: 1.5563520\tbest: 1.5563520 (999)\ttotal: 1m 7s\tremaining: 0us\n",
      "\n",
      "bestTest = 1.556351995\n",
      "bestIteration = 999\n",
      "\n"
     ]
    },
    {
     "data": {
      "text/plain": [
       "<catboost.core.CatBoostRegressor at 0x7fe5fb1fe2e0>"
      ]
     },
     "execution_count": 22,
     "metadata": {},
     "output_type": "execute_result"
    }
   ],
   "source": [
    "model = CatBoostRegressor()\n",
    "\n",
    "model.fit(dataset_train, eval_set=dataset_test,\n",
    "          verbose=100)"
   ]
  },
  {
   "cell_type": "markdown",
   "id": "aa39d0b7",
   "metadata": {},
   "source": [
    "### 12. (0.5) Check feature importances of a Catboost model, what are the top4 most important features? (comma divided list of column names)"
   ]
  },
  {
   "cell_type": "code",
   "execution_count": 23,
   "id": "ebf02100",
   "metadata": {},
   "outputs": [],
   "source": [
    "importance = pd.DataFrame()\n",
    "importance['feature importances'] = model.feature_importances_\n",
    "importance['names'] = model.feature_names_"
   ]
  },
  {
   "cell_type": "code",
   "execution_count": 24,
   "id": "86190466",
   "metadata": {},
   "outputs": [
    {
     "data": {
      "text/html": [
       "<div>\n",
       "<style scoped>\n",
       "    .dataframe tbody tr th:only-of-type {\n",
       "        vertical-align: middle;\n",
       "    }\n",
       "\n",
       "    .dataframe tbody tr th {\n",
       "        vertical-align: top;\n",
       "    }\n",
       "\n",
       "    .dataframe thead th {\n",
       "        text-align: right;\n",
       "    }\n",
       "</style>\n",
       "<table border=\"1\" class=\"dataframe\">\n",
       "  <thead>\n",
       "    <tr style=\"text-align: right;\">\n",
       "      <th></th>\n",
       "      <th>feature importances</th>\n",
       "      <th>names</th>\n",
       "    </tr>\n",
       "  </thead>\n",
       "  <tbody>\n",
       "    <tr>\n",
       "      <th>11</th>\n",
       "      <td>23.314336</td>\n",
       "      <td>totals.pageviews</td>\n",
       "    </tr>\n",
       "    <tr>\n",
       "      <th>10</th>\n",
       "      <td>13.830964</td>\n",
       "      <td>totals.hits</td>\n",
       "    </tr>\n",
       "    <tr>\n",
       "      <th>14</th>\n",
       "      <td>11.724523</td>\n",
       "      <td>totals.sessionQualityDim</td>\n",
       "    </tr>\n",
       "    <tr>\n",
       "      <th>12</th>\n",
       "      <td>8.724324</td>\n",
       "      <td>totals.timeOnSite</td>\n",
       "    </tr>\n",
       "  </tbody>\n",
       "</table>\n",
       "</div>"
      ],
      "text/plain": [
       "    feature importances                     names\n",
       "11            23.314336          totals.pageviews\n",
       "10            13.830964               totals.hits\n",
       "14            11.724523  totals.sessionQualityDim\n",
       "12             8.724324         totals.timeOnSite"
      ]
     },
     "execution_count": 24,
     "metadata": {},
     "output_type": "execute_result"
    }
   ],
   "source": [
    "importance.sort_values('feature importances', ascending=False).iloc[:4]"
   ]
  },
  {
   "cell_type": "code",
   "execution_count": 2,
   "id": "cc908692",
   "metadata": {},
   "outputs": [
    {
     "data": {
      "text/plain": [
       "3481689.070338065"
      ]
     },
     "execution_count": 2,
     "metadata": {},
     "output_type": "execute_result"
    }
   ],
   "source": [
    "import numpy as np\n",
    "\n",
    "np.expm1(1.5) * 10**6"
   ]
  },
  {
   "cell_type": "code",
   "execution_count": 8,
   "id": "48836854",
   "metadata": {},
   "outputs": [
    {
     "data": {
      "text/plain": [
       "array([  0.  ,  12.38,  39.67, ...,  26.24, 352.  , 336.26])"
      ]
     },
     "execution_count": 8,
     "metadata": {},
     "output_type": "execute_result"
    }
   ],
   "source": [
    "(df_train['totals.totalTransactionRevenue'] / 10**6).unique()"
   ]
  },
  {
   "cell_type": "code",
   "execution_count": null,
   "id": "c15766e8",
   "metadata": {},
   "outputs": [],
   "source": []
  }
 ],
 "metadata": {
  "kernelspec": {
   "display_name": "Python 3",
   "language": "python",
   "name": "python3"
  },
  "language_info": {
   "codemirror_mode": {
    "name": "ipython",
    "version": 3
   },
   "file_extension": ".py",
   "mimetype": "text/x-python",
   "name": "python",
   "nbconvert_exporter": "python",
   "pygments_lexer": "ipython3",
   "version": "3.8.8"
  }
 },
 "nbformat": 4,
 "nbformat_minor": 5
}
